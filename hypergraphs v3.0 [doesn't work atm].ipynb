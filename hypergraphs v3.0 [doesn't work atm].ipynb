{
 "cells": [
  {
   "cell_type": "code",
   "execution_count": 1,
   "metadata": {},
   "outputs": [],
   "source": [
    "import matplotlib.pyplot as plt\n",
    "import networkx as nx\n",
    "# import itertools"
   ]
  },
  {
   "cell_type": "code",
   "execution_count": 2,
   "metadata": {},
   "outputs": [],
   "source": [
    "def read_dimacs_cnf(filename):\n",
    "    clauses = []\n",
    "    with open(filename, 'r') as file:\n",
    "        for line in file:\n",
    "            if line.startswith(\"c\"):\n",
    "                continue\n",
    "            if line.startswith(\"p cnf\"):\n",
    "                num_vars, num_clauses = map(int, line.strip().split()[2:])\n",
    "            else:\n",
    "                clause = list(map(int, line.strip().split()[:-1]))\n",
    "                clauses.append(clause)\n",
    "    return num_vars, clauses\n",
    "\n",
    "def draw_hypergraph(num_vars, clauses):\n",
    "    G = nx.Graph()\n",
    "\n",
    "    for var in range(1, num_vars + 1):\n",
    "        G.add_node(var)\n",
    "\n",
    "    for i, clause in enumerate(clauses):\n",
    "        G.add_nodes_from(clause)\n",
    "        for pair in itertools.combinations(clause, 2):\n",
    "            G.add_edge(*pair, clause=i+1)\n",
    "\n",
    "    node_colors = []\n",
    "    for node in G.nodes():\n",
    "        color = 0\n",
    "        for i, clause in enumerate(clauses):\n",
    "            if node in clause:\n",
    "                color = i + 1\n",
    "                break\n",
    "        node_colors.append(color)\n",
    "\n",
    "    pos = nx.spring_layout(G)\n",
    "    nx.draw(G, pos, with_labels=True, font_weight='bold', node_color=node_colors, cmap=plt.cm.rainbow, node_size=800)\n",
    "\n",
    "    fig, ax = plt.subplots()\n",
    "    sm = plt.cm.ScalarMappable(cmap=plt.cm.rainbow)\n",
    "    sm.set_array([])\n",
    "    plt.colorbar(sm, ticks=range(1, len(clauses) + 1), label='Clause', ax=ax)\n",
    "\n",
    "    plt.show()"
   ]
  },
  {
   "cell_type": "code",
   "execution_count": 3,
   "metadata": {},
   "outputs": [
    {
     "ename": "NameError",
     "evalue": "name 'itertools' is not defined",
     "output_type": "error",
     "traceback": [
      "\u001b[1;31m---------------------------------------------------------------------------\u001b[0m",
      "\u001b[1;31mNameError\u001b[0m                                 Traceback (most recent call last)",
      "\u001b[1;32mc:\\Users\\karol\\Desktop\\Studia\\Studio Projektowe - projekt\\hypergraphs v3.0 [doesn't work atm].ipynb Cell 3\u001b[0m line \u001b[0;36m3\n\u001b[0;32m      <a href='vscode-notebook-cell:/c%3A/Users/karol/Desktop/Studia/Studio%20Projektowe%20-%20projekt/hypergraphs%20v3.0%20%5Bdoesn%27t%20work%20atm%5D.ipynb#W1sZmlsZQ%3D%3D?line=0'>1</a>\u001b[0m filename \u001b[39m=\u001b[39m \u001b[39m\"\u001b[39m\u001b[39mDIMACS_files/turbo_easy/example_2.cnf\u001b[39m\u001b[39m\"\u001b[39m\n\u001b[0;32m      <a href='vscode-notebook-cell:/c%3A/Users/karol/Desktop/Studia/Studio%20Projektowe%20-%20projekt/hypergraphs%20v3.0%20%5Bdoesn%27t%20work%20atm%5D.ipynb#W1sZmlsZQ%3D%3D?line=1'>2</a>\u001b[0m num_vars, clauses \u001b[39m=\u001b[39m read_dimacs_cnf(filename)\n\u001b[1;32m----> <a href='vscode-notebook-cell:/c%3A/Users/karol/Desktop/Studia/Studio%20Projektowe%20-%20projekt/hypergraphs%20v3.0%20%5Bdoesn%27t%20work%20atm%5D.ipynb#W1sZmlsZQ%3D%3D?line=2'>3</a>\u001b[0m draw_hypergraph(num_vars, clauses)\n",
      "\u001b[1;32mc:\\Users\\karol\\Desktop\\Studia\\Studio Projektowe - projekt\\hypergraphs v3.0 [doesn't work atm].ipynb Cell 3\u001b[0m line \u001b[0;36m2\n\u001b[0;32m     <a href='vscode-notebook-cell:/c%3A/Users/karol/Desktop/Studia/Studio%20Projektowe%20-%20projekt/hypergraphs%20v3.0%20%5Bdoesn%27t%20work%20atm%5D.ipynb#W1sZmlsZQ%3D%3D?line=19'>20</a>\u001b[0m \u001b[39mfor\u001b[39;00m i, clause \u001b[39min\u001b[39;00m \u001b[39menumerate\u001b[39m(clauses):\n\u001b[0;32m     <a href='vscode-notebook-cell:/c%3A/Users/karol/Desktop/Studia/Studio%20Projektowe%20-%20projekt/hypergraphs%20v3.0%20%5Bdoesn%27t%20work%20atm%5D.ipynb#W1sZmlsZQ%3D%3D?line=20'>21</a>\u001b[0m     G\u001b[39m.\u001b[39madd_nodes_from(clause)\n\u001b[1;32m---> <a href='vscode-notebook-cell:/c%3A/Users/karol/Desktop/Studia/Studio%20Projektowe%20-%20projekt/hypergraphs%20v3.0%20%5Bdoesn%27t%20work%20atm%5D.ipynb#W1sZmlsZQ%3D%3D?line=21'>22</a>\u001b[0m     \u001b[39mfor\u001b[39;00m pair \u001b[39min\u001b[39;00m itertools\u001b[39m.\u001b[39mcombinations(clause, \u001b[39m2\u001b[39m):\n\u001b[0;32m     <a href='vscode-notebook-cell:/c%3A/Users/karol/Desktop/Studia/Studio%20Projektowe%20-%20projekt/hypergraphs%20v3.0%20%5Bdoesn%27t%20work%20atm%5D.ipynb#W1sZmlsZQ%3D%3D?line=22'>23</a>\u001b[0m         G\u001b[39m.\u001b[39madd_edge(\u001b[39m*\u001b[39mpair, clause\u001b[39m=\u001b[39mi\u001b[39m+\u001b[39m\u001b[39m1\u001b[39m)\n\u001b[0;32m     <a href='vscode-notebook-cell:/c%3A/Users/karol/Desktop/Studia/Studio%20Projektowe%20-%20projekt/hypergraphs%20v3.0%20%5Bdoesn%27t%20work%20atm%5D.ipynb#W1sZmlsZQ%3D%3D?line=24'>25</a>\u001b[0m node_colors \u001b[39m=\u001b[39m []\n",
      "\u001b[1;31mNameError\u001b[0m: name 'itertools' is not defined"
     ]
    }
   ],
   "source": [
    "filename = \"DIMACS_files/turbo_easy/example_2.cnf\"\n",
    "num_vars, clauses = read_dimacs_cnf(filename)\n",
    "draw_hypergraph(num_vars, clauses)"
   ]
  }
 ],
 "metadata": {
  "kernelspec": {
   "display_name": "Python 3",
   "language": "python",
   "name": "python3"
  },
  "language_info": {
   "codemirror_mode": {
    "name": "ipython",
    "version": 3
   },
   "file_extension": ".py",
   "mimetype": "text/x-python",
   "name": "python",
   "nbconvert_exporter": "python",
   "pygments_lexer": "ipython3",
   "version": "3.11.6"
  }
 },
 "nbformat": 4,
 "nbformat_minor": 2
}
