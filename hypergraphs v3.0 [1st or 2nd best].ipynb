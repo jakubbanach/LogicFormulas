{
 "cells": [
  {
   "cell_type": "code",
   "execution_count": null,
   "metadata": {},
   "outputs": [],
   "source": [
    "import matplotlib.pyplot as plt\n",
    "import networkx as nx\n",
    "import itertools"
   ]
  },
  {
   "cell_type": "code",
   "execution_count": null,
   "metadata": {},
   "outputs": [],
   "source": [
    "def read_dimacs_cnf(filename):\n",
    "    clauses = []\n",
    "    with open(filename, 'r') as file:\n",
    "        for line in file:\n",
    "            if line.startswith(\"c\"):\n",
    "                continue\n",
    "            if line.startswith(\"p cnf\"):\n",
    "                num_vars, num_clauses = map(int, line.strip().split()[2:])\n",
    "            else:\n",
    "                clause = list(map(int, line.strip().split()[:-1]))\n",
    "                clauses.append(clause)\n",
    "    return num_vars, clauses\n",
    "\n",
    "def draw_hypergraph(num_vars, clauses):\n",
    "    G = nx.Graph()\n",
    "\n",
    "    for var in range(1, num_vars + 1):\n",
    "        G.add_node(var)\n",
    "\n",
    "    for i, clause in enumerate(clauses):\n",
    "        G.add_nodes_from(clause)\n",
    "        for pair in itertools.combinations(clause, 2):\n",
    "            G.add_edge(*pair, clause=i+1)\n",
    "\n",
    "    node_colors = []\n",
    "    for node in G.nodes():\n",
    "        color = 0\n",
    "        for i, clause in enumerate(clauses):\n",
    "            if node in clause:\n",
    "                color = i + 1\n",
    "                break\n",
    "        node_colors.append(color)\n",
    "\n",
    "    pos = nx.spring_layout(G)\n",
    "    nx.draw(G, pos, with_labels=True, font_weight='bold', node_color=node_colors, cmap=plt.cm.rainbow, node_size=800)\n",
    "\n",
    "    fig, ax = plt.subplots()\n",
    "    sm = plt.cm.ScalarMappable(cmap=plt.cm.rainbow)\n",
    "    sm.set_array([])\n",
    "    plt.colorbar(sm, ticks=range(1, len(clauses) + 1), label='Clause', ax=ax)\n",
    "\n",
    "    plt.show()"
   ]
  },
  {
   "cell_type": "code",
   "execution_count": null,
   "metadata": {},
   "outputs": [],
   "source": [
    "filename = \"DIMACS_files/turbo_easy/example_2.cnf\"\n",
    "num_vars, clauses = read_dimacs_cnf(filename)\n",
    "draw_hypergraph(num_vars, clauses)"
   ]
  }
 ],
 "metadata": {
  "kernelspec": {
   "display_name": "Python 3",
   "language": "python",
   "name": "python3"
  },
  "language_info": {
   "codemirror_mode": {
    "name": "ipython",
    "version": 3
   },
   "file_extension": ".py",
   "mimetype": "text/x-python",
   "name": "python",
   "nbconvert_exporter": "python",
   "pygments_lexer": "ipython3",
   "version": "3.11.6"
  }
 },
 "nbformat": 4,
 "nbformat_minor": 2
}
