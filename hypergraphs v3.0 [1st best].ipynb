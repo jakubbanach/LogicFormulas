{
 "cells": [
  {
   "cell_type": "code",
   "execution_count": 1,
   "metadata": {},
   "outputs": [],
   "source": [
    "import matplotlib.pyplot as plt\n",
    "import networkx as nx\n",
    "import itertools\n",
    "import plotly.graph_objs as go"
   ]
  },
  {
   "cell_type": "code",
   "execution_count": 2,
   "metadata": {},
   "outputs": [],
   "source": [
    "def read_dimacs_cnf(filename):\n",
    "    clauses = []\n",
    "    with open(filename, 'r') as file:\n",
    "        for line in file:\n",
    "            if line.startswith(\"c\"):\n",
    "                continue\n",
    "            if line.startswith(\"p cnf\"):\n",
    "                num_vars, num_clauses = map(int, line.strip().split()[2:])\n",
    "            else:\n",
    "                clause = list(map(int, line.strip().split()[:-1]))\n",
    "                clauses.append(clause)\n",
    "    return num_vars, clauses\n",
    "\n",
    "def draw_hypergraph(num_vars, clauses, threshold=0):\n",
    "    G = nx.Graph()\n",
    "\n",
    "    for var in range(1, num_vars + 1):\n",
    "        G.add_node(var)\n",
    "\n",
    "    for i, clause in enumerate(clauses):\n",
    "        G.add_nodes_from(map(abs, clause))\n",
    "        for pair in itertools.combinations(map(abs, clause), 2):\n",
    "            G.add_edge(*pair, clause=i+1)\n",
    "\n",
    "    nodes_to_remove = [node for node, degree in dict(G.degree()).items() if degree <= threshold]\n",
    "    G.remove_nodes_from(nodes_to_remove)\n",
    "\n",
    "    node_colors = []\n",
    "    for node in G.nodes():\n",
    "        color = 0\n",
    "        for i, clause in enumerate(clauses):\n",
    "            if abs(node) in map(abs, clause):\n",
    "                color = i + 1\n",
    "                break\n",
    "        node_colors.append(color)\n",
    "\n",
    "    pos = nx.spring_layout(G)\n",
    "    \n",
    "    nx.draw(G, pos, with_labels=True, font_weight='bold', node_color=node_colors, cmap=plt.cm.Blues, node_size=800)"
   ]
  },
  {
   "cell_type": "code",
   "execution_count": 3,
   "metadata": {},
   "outputs": [],
   "source": [
    "def interactive_hypergraph(num_vars, clauses, threshold=0):\n",
    "    G = nx.Graph()\n",
    "\n",
    "    for var in range(1, num_vars + 1):\n",
    "        G.add_node(var)\n",
    "\n",
    "    for i, clause in enumerate(clauses):\n",
    "        G.add_nodes_from(map(abs, clause))\n",
    "        for pair in itertools.combinations(map(abs, clause), 2):\n",
    "            G.add_edge(*pair, clause=i+1)\n",
    "\n",
    "    nodes_to_remove = [node for node, degree in dict(G.degree()).items() if degree <= threshold]\n",
    "    G.remove_nodes_from(nodes_to_remove)\n",
    "\n",
    "    pos = nx.spring_layout(G)\n",
    "\n",
    "    edge_trace = go.Scatter(\n",
    "        x=[],\n",
    "        y=[],\n",
    "        line=dict(width=0.5, color='#888'),\n",
    "        hoverinfo='none',\n",
    "        mode='lines')\n",
    "\n",
    "    for edge in G.edges():\n",
    "        x0, y0 = pos[edge[0]]\n",
    "        x1, y1 = pos[edge[1]]\n",
    "        edge_trace['x'] += (x0, x1, None)\n",
    "        edge_trace['y'] += (y0, y1, None)\n",
    "\n",
    "    node_trace = go.Scatter(\n",
    "        x=[],\n",
    "        y=[],\n",
    "        text=[],\n",
    "        mode='markers+text',\n",
    "        hoverinfo='text',\n",
    "        marker=dict(\n",
    "            colorscale='Blues',\n",
    "            reversescale=False,\n",
    "            color=[],\n",
    "            size=10,\n",
    "            colorbar=dict(\n",
    "                thickness=15,\n",
    "                title='Stopień węzła',\n",
    "                xanchor='left',\n",
    "                titleside='right'\n",
    "            ),\n",
    "            line=dict(width=2)))\n",
    "\n",
    "    for node in G.nodes():\n",
    "        x, y = pos[node]\n",
    "        node_trace['x'] += (x,)\n",
    "        node_trace['y'] += (y,)\n",
    "        node_trace['text'] += ('Var: ' + str(node),)\n",
    "\n",
    "    for node, adjacencies in enumerate(G.adjacency()):\n",
    "        node_trace['marker']['color'] += (len(adjacencies[1]),)\n",
    "\n",
    "    layout = go.Layout(\n",
    "        titlefont=dict(size=16),\n",
    "        showlegend=False,\n",
    "        hovermode='closest',\n",
    "        margin=dict(b=5, l=5, r=5, t=5),\n",
    "        annotations=[dict(\n",
    "            text=\"\",\n",
    "            showarrow=False,\n",
    "            xref=\"paper\", yref=\"paper\")],\n",
    "        xaxis=dict(showgrid=False, zeroline=False, showticklabels=False),\n",
    "        yaxis=dict(showgrid=False, zeroline=False, showticklabels=False))\n",
    "\n",
    "    fig = go.Figure(data=[edge_trace, node_trace], layout=layout)\n",
    "    fig.show()"
   ]
  },
  {
   "cell_type": "code",
   "execution_count": 4,
   "metadata": {},
   "outputs": [],
   "source": [
    "filename = \"DIMACS_files/turbo_easy/example_2.cnf\"\n",
    "num_vars, clauses = read_dimacs_cnf(filename)"
   ]
  },
  {
   "cell_type": "code",
   "execution_count": 9,
   "metadata": {},
   "outputs": [
    {
     "data": {
      "image/png": "[encoded data removed]",
      "text/plain": [
       "<Figure size 640x480 with 1 Axes>"
      ]
     },
     "metadata": {},
     "output_type": "display_data"
    }
   ],
   "source": [
    "draw_hypergraph(num_vars, clauses, threshold=8)"
   ]
  },
  {
   "cell_type": "code",
   "execution_count": 10,
   "metadata": {},
   "outputs": [
    {
     "data": {
      "application/vnd.plotly.v1+json": {
       "config": {
        "plotlyServerURL": "https://plot.ly"
       },
       "data": [
        {
         "hoverinfo": "none",
         "line": {
          "color": "#888",
          "width": 0.5
         },
         "mode": "lines",
         "type": "scatter",
         "x": [
          0.16276639409000873,
          0.1814188984583268,
          null,
          0.16276639409000873,
          0.39451043725834084,
          null,
          0.16276639409000873,
          -0.030601153036743503,
          null,
          0.16276639409000873,
          -0.09241348055431406,
          null,
          0.16276639409000873,
          0.2579818639228871,
          null,
          -0.04605186650457623,
          0.36803958863221786,
          null,
          -0.04605186650457623,
          0.023462896843237983,
          null,
          -0.04605186650457623,
          0.17314314338794842,
          null,
          -0.04605186650457623,
          -0.15651348727372638,
          null,
          -0.04605186650457623,
          -0.5014882091706798,
          null,
          -0.04605186650457623,
          -0.09745594133667576,
          null,
          -0.04605186650457623,
          0.12655995592745578,
          null,
          -0.09241348055431406,
          0.11042435448509313,
          null,
          -0.09241348055431406,
          0.32628105356688225,
          null,
          -0.09241348055431406,
          -0.312158308638192,
          null,
          -0.09241348055431406,
          -0.3381891114606506,
          null,
          -0.09241348055431406,
          -0.15651348727372638,
          null,
          -0.004684365986270829,
          0.13016245853321917,
          null,
          -0.004684365986270829,
          -0.23937202087798484,
          null,
          -0.004684365986270829,
          0.10152735771964393,
          null,
          -0.004684365986270829,
          0.16367921944962008,
          null,
          -0.004684365986270829,
          -0.016855802569484307,
          null,
          -0.004684365986270829,
          -0.030601153036743503,
          null,
          -0.08280642290491676,
          0.17314314338794842,
          null,
          -0.08280642290491676,
          0.2579818639228871,
          null,
          -0.08280642290491676,
          -0.016855802569484307,
          null,
          -0.5014882091706798,
          -0.6967761420183677,
          null,
          -0.5014882091706798,
          -1,
          null,
          -0.5014882091706798,
          0.12655995592745578,
          null,
          -0.22494274382435261,
          -0.5374241291694007,
          null,
          -0.22494274382435261,
          -0.11192173485836038,
          null,
          -0.22494274382435261,
          0.16367921944962008,
          null,
          -0.22494274382435261,
          -0.030601153036743503,
          null,
          -0.22494274382435261,
          -0.09745594133667576,
          null,
          -0.23937202087798484,
          0.13016245853321917,
          null,
          -0.23937202087798484,
          0.10152735771964393,
          null,
          -0.23937202087798484,
          -0.3381891114606506,
          null,
          0.4745661599038989,
          0.10152735771964393,
          null,
          0.4745661599038989,
          0.6478744485838137,
          null,
          0.4745661599038989,
          0.12655995592745578,
          null,
          -0.312158308638192,
          -0.3381891114606506,
          null,
          -0.312158308638192,
          0.023462896843237983,
          null,
          -0.312158308638192,
          -0.11192173485836038,
          null,
          -0.11192173485836038,
          0.16367921944962008,
          null,
          -0.11192173485836038,
          -0.016855802569484307,
          null,
          -0.11192173485836038,
          0.12655995592745578,
          null,
          -0.11192173485836038,
          0.002636704031012028,
          null,
          -0.11192173485836038,
          0.1814188984583268,
          null,
          -0.030601153036743503,
          0.16367921944962008,
          null,
          -0.030601153036743503,
          -0.016855802569484307,
          null,
          -0.030601153036743503,
          0.13016245853321917,
          null,
          -0.030601153036743503,
          -0.15651348727372638,
          null,
          0.023462896843237983,
          0.5128563994062603,
          null,
          0.023462896843237983,
          0.39451043725834084,
          null,
          0.023462896843237983,
          -0.3381891114606506,
          null,
          0.023462896843237983,
          0.17314314338794842,
          null,
          0.11042435448509313,
          0.32628105356688225,
          null,
          0.11042435448509313,
          -0.016855802569484307,
          null,
          0.11042435448509313,
          0.002636704031012028,
          null,
          0.11042435448509313,
          0.12655995592745578,
          null,
          0.002636704031012028,
          -0.5374241291694007,
          null,
          0.002636704031012028,
          0.12655995592745578,
          null,
          0.002636704031012028,
          0.13016245853321917,
          null,
          0.002636704031012028,
          0.1814188984583268,
          null,
          -0.5374241291694007,
          -0.6967761420183677,
          null,
          -0.5374241291694007,
          -0.7245500549214684,
          null,
          -0.5374241291694007,
          -0.39893646284826495,
          null,
          0.6608889691670327,
          0.39451043725834084,
          null,
          0.6608889691670327,
          0.4698267662517045,
          null,
          0.6608889691670327,
          0.6478744485838137,
          null,
          0.6608889691670327,
          0.32628105356688225,
          null,
          0.6608889691670327,
          0.5128563994062603,
          null,
          0.2579818639228871,
          0.36803958863221786,
          null,
          0.2579818639228871,
          0.17314314338794842,
          null,
          0.2579818639228871,
          0.32453436833582544,
          null,
          0.2579818639228871,
          -0.016855802569484307,
          null,
          0.32453436833582544,
          -0.15651348727372638,
          null,
          0.32453436833582544,
          0.4698267662517045,
          null,
          0.32453436833582544,
          -0.09745594133667576,
          null,
          0.32453436833582544,
          0.32628105356688225,
          null,
          -0.15651348727372638,
          0.4698267662517045,
          null,
          -0.15651348727372638,
          -0.7245500549214684,
          null,
          -0.15651348727372638,
          -0.016855802569484307,
          null,
          -0.15651348727372638,
          -0.39893646284826495,
          null,
          0.16367921944962008,
          0.4698267662517045,
          null,
          0.16367921944962008,
          -0.016855802569484307,
          null,
          -1,
          -0.6967761420183677,
          null,
          0.1814188984583268,
          -0.09745594133667576,
          null,
          -0.09745594133667576,
          -0.6967761420183677,
          null,
          -0.09745594133667576,
          0.32628105356688225,
          null,
          -0.09745594133667576,
          0.12655995592745578,
          null,
          0.5128563994062603,
          0.39451043725834084,
          null,
          0.5128563994062603,
          0.32628105356688225,
          null,
          0.36803958863221786,
          0.13016245853321917,
          null,
          0.36803958863221786,
          0.6478744485838137,
          null,
          0.36803958863221786,
          0.17314314338794842,
          null,
          0.4698267662517045,
          0.6478744485838137,
          null,
          -0.016855802569484307,
          0.12655995592745578,
          null,
          -0.016855802569484307,
          0.13016245853321917,
          null,
          -0.016855802569484307,
          -0.39893646284826495,
          null,
          0.6478744485838137,
          0.12655995592745578,
          null
         ],
         "y": [
          -0.3073077349965982,
          0.0143913459860625,
          null,
          -0.3073077349965982,
          -0.7324594241030614,
          null,
          -0.3073077349965982,
          0.33859102558382753,
          null,
          -0.3073077349965982,
          -0.4259832767778599,
          null,
          -0.3073077349965982,
          -0.25052281425700507,
          null,
          -0.22818006271056446,
          -0.024027550229594682,
          null,
          -0.22818006271056446,
          -0.678652104187648,
          null,
          -0.22818006271056446,
          -0.4953709179488633,
          null,
          -0.22818006271056446,
          0.10643950419396983,
          null,
          -0.22818006271056446,
          -0.07445819789100097,
          null,
          -0.22818006271056446,
          -0.08685048705850715,
          null,
          -0.22818006271056446,
          0.1361897424288924,
          null,
          -0.4259832767778599,
          -0.12167966063927046,
          null,
          -0.4259832767778599,
          -0.45123496121874984,
          null,
          -0.4259832767778599,
          -0.5220182027873513,
          null,
          -0.4259832767778599,
          -0.25272422352366314,
          null,
          -0.4259832767778599,
          0.10643950419396983,
          null,
          0.6585129720919081,
          0.4920438936169925,
          null,
          0.6585129720919081,
          0.49518145254061274,
          null,
          0.6585129720919081,
          0.8877101800286921,
          null,
          0.6585129720919081,
          0.383024190089239,
          null,
          0.6585129720919081,
          0.1888113332463649,
          null,
          0.6585129720919081,
          0.33859102558382753,
          null,
          -0.33190165559876555,
          -0.4953709179488633,
          null,
          -0.33190165559876555,
          -0.25052281425700507,
          null,
          -0.33190165559876555,
          0.1888113332463649,
          null,
          -0.07445819789100097,
          0.024157969587101723,
          null,
          -0.07445819789100097,
          -0.11031070533340807,
          null,
          -0.07445819789100097,
          0.1361897424288924,
          null,
          0.33824820608424444,
          0.3822544351004379,
          null,
          0.33824820608424444,
          0.03151395134612617,
          null,
          0.33824820608424444,
          0.383024190089239,
          null,
          0.33824820608424444,
          0.33859102558382753,
          null,
          0.33824820608424444,
          -0.08685048705850715,
          null,
          0.49518145254061274,
          0.4920438936169925,
          null,
          0.49518145254061274,
          0.8877101800286921,
          null,
          0.49518145254061274,
          -0.25272422352366314,
          null,
          0.5749640956192951,
          0.8877101800286921,
          null,
          0.5749640956192951,
          0.13188650586708295,
          null,
          0.5749640956192951,
          0.1361897424288924,
          null,
          -0.5220182027873513,
          -0.25272422352366314,
          null,
          -0.5220182027873513,
          -0.678652104187648,
          null,
          -0.5220182027873513,
          0.03151395134612617,
          null,
          0.03151395134612617,
          0.383024190089239,
          null,
          0.03151395134612617,
          0.1888113332463649,
          null,
          0.03151395134612617,
          0.1361897424288924,
          null,
          0.03151395134612617,
          0.2792605917631337,
          null,
          0.03151395134612617,
          0.0143913459860625,
          null,
          0.33859102558382753,
          0.383024190089239,
          null,
          0.33859102558382753,
          0.1888113332463649,
          null,
          0.33859102558382753,
          0.4920438936169925,
          null,
          0.33859102558382753,
          0.10643950419396983,
          null,
          -0.678652104187648,
          -0.7917626582121159,
          null,
          -0.678652104187648,
          -0.7324594241030614,
          null,
          -0.678652104187648,
          -0.25272422352366314,
          null,
          -0.678652104187648,
          -0.4953709179488633,
          null,
          -0.12167966063927046,
          -0.45123496121874984,
          null,
          -0.12167966063927046,
          0.1888113332463649,
          null,
          -0.12167966063927046,
          0.2792605917631337,
          null,
          -0.12167966063927046,
          0.1361897424288924,
          null,
          0.2792605917631337,
          0.3822544351004379,
          null,
          0.2792605917631337,
          0.1361897424288924,
          null,
          0.2792605917631337,
          0.4920438936169925,
          null,
          0.2792605917631337,
          0.0143913459860625,
          null,
          0.3822544351004379,
          0.024157969587101723,
          null,
          0.3822544351004379,
          0.3719043826029442,
          null,
          0.3822544351004379,
          0.51471507032235,
          null,
          -0.3900719687378505,
          -0.7324594241030614,
          null,
          -0.3900719687378505,
          0.07316418936431154,
          null,
          -0.3900719687378505,
          0.13188650586708295,
          null,
          -0.3900719687378505,
          -0.45123496121874984,
          null,
          -0.3900719687378505,
          -0.7917626582121159,
          null,
          -0.25052281425700507,
          -0.024027550229594682,
          null,
          -0.25052281425700507,
          -0.4953709179488633,
          null,
          -0.25052281425700507,
          -0.14744843125171128,
          null,
          -0.25052281425700507,
          0.1888113332463649,
          null,
          -0.14744843125171128,
          0.10643950419396983,
          null,
          -0.14744843125171128,
          0.07316418936431154,
          null,
          -0.14744843125171128,
          -0.08685048705850715,
          null,
          -0.14744843125171128,
          -0.45123496121874984,
          null,
          0.10643950419396983,
          0.07316418936431154,
          null,
          0.10643950419396983,
          0.3719043826029442,
          null,
          0.10643950419396983,
          0.1888113332463649,
          null,
          0.10643950419396983,
          0.51471507032235,
          null,
          0.383024190089239,
          0.07316418936431154,
          null,
          0.383024190089239,
          0.1888113332463649,
          null,
          -0.11031070533340807,
          0.024157969587101723,
          null,
          0.0143913459860625,
          -0.08685048705850715,
          null,
          -0.08685048705850715,
          0.024157969587101723,
          null,
          -0.08685048705850715,
          -0.45123496121874984,
          null,
          -0.08685048705850715,
          0.1361897424288924,
          null,
          -0.7917626582121159,
          -0.7324594241030614,
          null,
          -0.7917626582121159,
          -0.45123496121874984,
          null,
          -0.024027550229594682,
          0.4920438936169925,
          null,
          -0.024027550229594682,
          0.13188650586708295,
          null,
          -0.024027550229594682,
          -0.4953709179488633,
          null,
          0.07316418936431154,
          0.13188650586708295,
          null,
          0.1888113332463649,
          0.1361897424288924,
          null,
          0.1888113332463649,
          0.4920438936169925,
          null,
          0.1888113332463649,
          0.51471507032235,
          null,
          0.13188650586708295,
          0.1361897424288924,
          null
         ]
        },
        {
         "hoverinfo": "text",
         "marker": {
          "color": [
           5,
           7,
           6,
           6,
           3,
           4,
           5,
           4,
           3,
           4,
           7,
           3,
           7,
           6,
           5,
           6,
           5,
           5,
           6,
           5,
           4,
           8,
           6,
           2,
           4,
           7,
           4,
           5,
           4,
           5,
           11,
           5,
           6,
           9,
           2,
           6,
           5,
           3,
           4
          ],
          "colorbar": {
           "thickness": 15,
           "title": {
            "side": "right",
            "text": "Stopień węzła"
           },
           "xanchor": "left"
          },
          "colorscale": [
           [
            0,
            "rgb(247,251,255)"
           ],
           [
            0.125,
            "rgb(222,235,247)"
           ],
           [
            0.25,
            "rgb(198,219,239)"
           ],
           [
            0.375,
            "rgb(158,202,225)"
           ],
           [
            0.5,
            "rgb(107,174,214)"
           ],
           [
            0.625,
            "rgb(66,146,198)"
           ],
           [
            0.75,
            "rgb(33,113,181)"
           ],
           [
            0.875,
            "rgb(8,81,156)"
           ],
           [
            1,
            "rgb(8,48,107)"
           ]
          ],
          "line": {
           "width": 2
          },
          "reversescale": false,
          "size": 10
         },
         "mode": "markers+text",
         "text": [
          "Var: 2",
          "Var: 6",
          "Var: 10",
          "Var: 11",
          "Var: 13",
          "Var: 18",
          "Var: 21",
          "Var: 23",
          "Var: 25",
          "Var: 26",
          "Var: 34",
          "Var: 35",
          "Var: 36",
          "Var: 37",
          "Var: 39",
          "Var: 45",
          "Var: 48",
          "Var: 52",
          "Var: 58",
          "Var: 59",
          "Var: 62",
          "Var: 63",
          "Var: 64",
          "Var: 68",
          "Var: 69",
          "Var: 71",
          "Var: 73",
          "Var: 76",
          "Var: 81",
          "Var: 83",
          "Var: 86",
          "Var: 87",
          "Var: 89",
          "Var: 92",
          "Var: 93",
          "Var: 96",
          "Var: 97",
          "Var: 98",
          "Var: 100"
         ],
         "type": "scatter",
         "x": [
          0.16276639409000873,
          -0.04605186650457623,
          -0.09241348055431406,
          -0.004684365986270829,
          -0.08280642290491676,
          -0.5014882091706798,
          -0.22494274382435261,
          -0.23937202087798484,
          0.4745661599038989,
          -0.312158308638192,
          -0.11192173485836038,
          0.10152735771964393,
          -0.030601153036743503,
          0.023462896843237983,
          0.11042435448509313,
          0.002636704031012028,
          -0.5374241291694007,
          0.6608889691670327,
          0.2579818639228871,
          0.32453436833582544,
          -0.3381891114606506,
          -0.15651348727372638,
          0.16367921944962008,
          -1,
          0.1814188984583268,
          -0.09745594133667576,
          0.5128563994062603,
          0.36803958863221786,
          -0.6967761420183677,
          0.4698267662517045,
          -0.016855802569484307,
          0.6478744485838137,
          0.32628105356688225,
          0.12655995592745578,
          -0.7245500549214684,
          0.13016245853321917,
          0.17314314338794842,
          -0.39893646284826495,
          0.39451043725834084
         ],
         "y": [
          -0.3073077349965982,
          -0.22818006271056446,
          -0.4259832767778599,
          0.6585129720919081,
          -0.33190165559876555,
          -0.07445819789100097,
          0.33824820608424444,
          0.49518145254061274,
          0.5749640956192951,
          -0.5220182027873513,
          0.03151395134612617,
          0.8877101800286921,
          0.33859102558382753,
          -0.678652104187648,
          -0.12167966063927046,
          0.2792605917631337,
          0.3822544351004379,
          -0.3900719687378505,
          -0.25052281425700507,
          -0.14744843125171128,
          -0.25272422352366314,
          0.10643950419396983,
          0.383024190089239,
          -0.11031070533340807,
          0.0143913459860625,
          -0.08685048705850715,
          -0.7917626582121159,
          -0.024027550229594682,
          0.024157969587101723,
          0.07316418936431154,
          0.1888113332463649,
          0.13188650586708295,
          -0.45123496121874984,
          0.1361897424288924,
          0.3719043826029442,
          0.4920438936169925,
          -0.4953709179488633,
          0.51471507032235,
          -0.7324594241030614
         ]
        }
       ],
       "layout": {
        "annotations": [
         {
          "showarrow": false,
          "text": "",
          "xref": "paper",
          "yref": "paper"
         }
        ],
        "hovermode": "closest",
        "margin": {
         "b": 5,
         "l": 5,
         "r": 5,
         "t": 5
        },
        "showlegend": false,
        "template": {
         "data": {
          "bar": [
           {
            "error_x": {
             "color": "#2a3f5f"
            },
            "error_y": {
             "color": "#2a3f5f"
            },
            "marker": {
             "line": {
              "color": "#E5ECF6",
              "width": 0.5
             },
             "pattern": {
              "fillmode": "overlay",
              "size": 10,
              "solidity": 0.2
             }
            },
            "type": "bar"
           }
          ],
          "barpolar": [
           {
            "marker": {
             "line": {
              "color": "#E5ECF6",
              "width": 0.5
             },
             "pattern": {
              "fillmode": "overlay",
              "size": 10,
              "solidity": 0.2
             }
            },
            "type": "barpolar"
           }
          ],
          "carpet": [
           {
            "aaxis": {
             "endlinecolor": "#2a3f5f",
             "gridcolor": "white",
             "linecolor": "white",
             "minorgridcolor": "white",
             "startlinecolor": "#2a3f5f"
            },
            "baxis": {
             "endlinecolor": "#2a3f5f",
             "gridcolor": "white",
             "linecolor": "white",
             "minorgridcolor": "white",
             "startlinecolor": "#2a3f5f"
            },
            "type": "carpet"
           }
          ],
          "choropleth": [
           {
            "colorbar": {
             "outlinewidth": 0,
             "ticks": ""
            },
            "type": "choropleth"
           }
          ],
          "contour": [
           {
            "colorbar": {
             "outlinewidth": 0,
             "ticks": ""
            },
            "colorscale": [
             [
              0,
              "#0d0887"
             ],
             [
              0.1111111111111111,
              "#46039f"
             ],
             [
              0.2222222222222222,
              "#7201a8"
             ],
             [
              0.3333333333333333,
              "#9c179e"
             ],
             [
              0.4444444444444444,
              "#bd3786"
             ],
             [
              0.5555555555555556,
              "#d8576b"
             ],
             [
              0.6666666666666666,
              "#ed7953"
             ],
             [
              0.7777777777777778,
              "#fb9f3a"
             ],
             [
              0.8888888888888888,
              "#fdca26"
             ],
             [
              1,
              "#f0f921"
             ]
            ],
            "type": "contour"
           }
          ],
          "contourcarpet": [
           {
            "colorbar": {
             "outlinewidth": 0,
             "ticks": ""
            },
            "type": "contourcarpet"
           }
          ],
          "heatmap": [
           {
            "colorbar": {
             "outlinewidth": 0,
             "ticks": ""
            },
            "colorscale": [
             [
              0,
              "#0d0887"
             ],
             [
              0.1111111111111111,
              "#46039f"
             ],
             [
              0.2222222222222222,
              "#7201a8"
             ],
             [
              0.3333333333333333,
              "#9c179e"
             ],
             [
              0.4444444444444444,
              "#bd3786"
             ],
             [
              0.5555555555555556,
              "#d8576b"
             ],
             [
              0.6666666666666666,
              "#ed7953"
             ],
             [
              0.7777777777777778,
              "#fb9f3a"
             ],
             [
              0.8888888888888888,
              "#fdca26"
             ],
             [
              1,
              "#f0f921"
             ]
            ],
            "type": "heatmap"
           }
          ],
          "heatmapgl": [
           {
            "colorbar": {
             "outlinewidth": 0,
             "ticks": ""
            },
            "colorscale": [
             [
              0,
              "#0d0887"
             ],
             [
              0.1111111111111111,
              "#46039f"
             ],
             [
              0.2222222222222222,
              "#7201a8"
             ],
             [
              0.3333333333333333,
              "#9c179e"
             ],
             [
              0.4444444444444444,
              "#bd3786"
             ],
             [
              0.5555555555555556,
              "#d8576b"
             ],
             [
              0.6666666666666666,
              "#ed7953"
             ],
             [
              0.7777777777777778,
              "#fb9f3a"
             ],
             [
              0.8888888888888888,
              "#fdca26"
             ],
             [
              1,
              "#f0f921"
             ]
            ],
            "type": "heatmapgl"
           }
          ],
          "histogram": [
           {
            "marker": {
             "pattern": {
              "fillmode": "overlay",
              "size": 10,
              "solidity": 0.2
             }
            },
            "type": "histogram"
           }
          ],
          "histogram2d": [
           {
            "colorbar": {
             "outlinewidth": 0,
             "ticks": ""
            },
            "colorscale": [
             [
              0,
              "#0d0887"
             ],
             [
              0.1111111111111111,
              "#46039f"
             ],
             [
              0.2222222222222222,
              "#7201a8"
             ],
             [
              0.3333333333333333,
              "#9c179e"
             ],
             [
              0.4444444444444444,
              "#bd3786"
             ],
             [
              0.5555555555555556,
              "#d8576b"
             ],
             [
              0.6666666666666666,
              "#ed7953"
             ],
             [
              0.7777777777777778,
              "#fb9f3a"
             ],
             [
              0.8888888888888888,
              "#fdca26"
             ],
             [
              1,
              "#f0f921"
             ]
            ],
            "type": "histogram2d"
           }
          ],
          "histogram2dcontour": [
           {
            "colorbar": {
             "outlinewidth": 0,
             "ticks": ""
            },
            "colorscale": [
             [
              0,
              "#0d0887"
             ],
             [
              0.1111111111111111,
              "#46039f"
             ],
             [
              0.2222222222222222,
              "#7201a8"
             ],
             [
              0.3333333333333333,
              "#9c179e"
             ],
             [
              0.4444444444444444,
              "#bd3786"
             ],
             [
              0.5555555555555556,
              "#d8576b"
             ],
             [
              0.6666666666666666,
              "#ed7953"
             ],
             [
              0.7777777777777778,
              "#fb9f3a"
             ],
             [
              0.8888888888888888,
              "#fdca26"
             ],
             [
              1,
              "#f0f921"
             ]
            ],
            "type": "histogram2dcontour"
           }
          ],
          "mesh3d": [
           {
            "colorbar": {
             "outlinewidth": 0,
             "ticks": ""
            },
            "type": "mesh3d"
           }
          ],
          "parcoords": [
           {
            "line": {
             "colorbar": {
              "outlinewidth": 0,
              "ticks": ""
             }
            },
            "type": "parcoords"
           }
          ],
          "pie": [
           {
            "automargin": true,
            "type": "pie"
           }
          ],
          "scatter": [
           {
            "fillpattern": {
             "fillmode": "overlay",
             "size": 10,
             "solidity": 0.2
            },
            "type": "scatter"
           }
          ],
          "scatter3d": [
           {
            "line": {
             "colorbar": {
              "outlinewidth": 0,
              "ticks": ""
             }
            },
            "marker": {
             "colorbar": {
              "outlinewidth": 0,
              "ticks": ""
             }
            },
            "type": "scatter3d"
           }
          ],
          "scattercarpet": [
           {
            "marker": {
             "colorbar": {
              "outlinewidth": 0,
              "ticks": ""
             }
            },
            "type": "scattercarpet"
           }
          ],
          "scattergeo": [
           {
            "marker": {
             "colorbar": {
              "outlinewidth": 0,
              "ticks": ""
             }
            },
            "type": "scattergeo"
           }
          ],
          "scattergl": [
           {
            "marker": {
             "colorbar": {
              "outlinewidth": 0,
              "ticks": ""
             }
            },
            "type": "scattergl"
           }
          ],
          "scattermapbox": [
           {
            "marker": {
             "colorbar": {
              "outlinewidth": 0,
              "ticks": ""
             }
            },
            "type": "scattermapbox"
           }
          ],
          "scatterpolar": [
           {
            "marker": {
             "colorbar": {
              "outlinewidth": 0,
              "ticks": ""
             }
            },
            "type": "scatterpolar"
           }
          ],
          "scatterpolargl": [
           {
            "marker": {
             "colorbar": {
              "outlinewidth": 0,
              "ticks": ""
             }
            },
            "type": "scatterpolargl"
           }
          ],
          "scatterternary": [
           {
            "marker": {
             "colorbar": {
              "outlinewidth": 0,
              "ticks": ""
             }
            },
            "type": "scatterternary"
           }
          ],
          "surface": [
           {
            "colorbar": {
             "outlinewidth": 0,
             "ticks": ""
            },
            "colorscale": [
             [
              0,
              "#0d0887"
             ],
             [
              0.1111111111111111,
              "#46039f"
             ],
             [
              0.2222222222222222,
              "#7201a8"
             ],
             [
              0.3333333333333333,
              "#9c179e"
             ],
             [
              0.4444444444444444,
              "#bd3786"
             ],
             [
              0.5555555555555556,
              "#d8576b"
             ],
             [
              0.6666666666666666,
              "#ed7953"
             ],
             [
              0.7777777777777778,
              "#fb9f3a"
             ],
             [
              0.8888888888888888,
              "#fdca26"
             ],
             [
              1,
              "#f0f921"
             ]
            ],
            "type": "surface"
           }
          ],
          "table": [
           {
            "cells": {
             "fill": {
              "color": "#EBF0F8"
             },
             "line": {
              "color": "white"
             }
            },
            "header": {
             "fill": {
              "color": "#C8D4E3"
             },
             "line": {
              "color": "white"
             }
            },
            "type": "table"
           }
          ]
         },
         "layout": {
          "annotationdefaults": {
           "arrowcolor": "#2a3f5f",
           "arrowhead": 0,
           "arrowwidth": 1
          },
          "autotypenumbers": "strict",
          "coloraxis": {
           "colorbar": {
            "outlinewidth": 0,
            "ticks": ""
           }
          },
          "colorscale": {
           "diverging": [
            [
             0,
             "#8e0152"
            ],
            [
             0.1,
             "#c51b7d"
            ],
            [
             0.2,
             "#de77ae"
            ],
            [
             0.3,
             "#f1b6da"
            ],
            [
             0.4,
             "#fde0ef"
            ],
            [
             0.5,
             "#f7f7f7"
            ],
            [
             0.6,
             "#e6f5d0"
            ],
            [
             0.7,
             "#b8e186"
            ],
            [
             0.8,
             "#7fbc41"
            ],
            [
             0.9,
             "#4d9221"
            ],
            [
             1,
             "#276419"
            ]
           ],
           "sequential": [
            [
             0,
             "#0d0887"
            ],
            [
             0.1111111111111111,
             "#46039f"
            ],
            [
             0.2222222222222222,
             "#7201a8"
            ],
            [
             0.3333333333333333,
             "#9c179e"
            ],
            [
             0.4444444444444444,
             "#bd3786"
            ],
            [
             0.5555555555555556,
             "#d8576b"
            ],
            [
             0.6666666666666666,
             "#ed7953"
            ],
            [
             0.7777777777777778,
             "#fb9f3a"
            ],
            [
             0.8888888888888888,
             "#fdca26"
            ],
            [
             1,
             "#f0f921"
            ]
           ],
           "sequentialminus": [
            [
             0,
             "#0d0887"
            ],
            [
             0.1111111111111111,
             "#46039f"
            ],
            [
             0.2222222222222222,
             "#7201a8"
            ],
            [
             0.3333333333333333,
             "#9c179e"
            ],
            [
             0.4444444444444444,
             "#bd3786"
            ],
            [
             0.5555555555555556,
             "#d8576b"
            ],
            [
             0.6666666666666666,
             "#ed7953"
            ],
            [
             0.7777777777777778,
             "#fb9f3a"
            ],
            [
             0.8888888888888888,
             "#fdca26"
            ],
            [
             1,
             "#f0f921"
            ]
           ]
          },
          "colorway": [
           "#636efa",
           "#EF553B",
           "#00cc96",
           "#ab63fa",
           "#FFA15A",
           "#19d3f3",
           "#FF6692",
           "#B6E880",
           "#FF97FF",
           "#FECB52"
          ],
          "font": {
           "color": "#2a3f5f"
          },
          "geo": {
           "bgcolor": "white",
           "lakecolor": "white",
           "landcolor": "#E5ECF6",
           "showlakes": true,
           "showland": true,
           "subunitcolor": "white"
          },
          "hoverlabel": {
           "align": "left"
          },
          "hovermode": "closest",
          "mapbox": {
           "style": "light"
          },
          "paper_bgcolor": "white",
          "plot_bgcolor": "#E5ECF6",
          "polar": {
           "angularaxis": {
            "gridcolor": "white",
            "linecolor": "white",
            "ticks": ""
           },
           "bgcolor": "#E5ECF6",
           "radialaxis": {
            "gridcolor": "white",
            "linecolor": "white",
            "ticks": ""
           }
          },
          "scene": {
           "xaxis": {
            "backgroundcolor": "#E5ECF6",
            "gridcolor": "white",
            "gridwidth": 2,
            "linecolor": "white",
            "showbackground": true,
            "ticks": "",
            "zerolinecolor": "white"
           },
           "yaxis": {
            "backgroundcolor": "#E5ECF6",
            "gridcolor": "white",
            "gridwidth": 2,
            "linecolor": "white",
            "showbackground": true,
            "ticks": "",
            "zerolinecolor": "white"
           },
           "zaxis": {
            "backgroundcolor": "#E5ECF6",
            "gridcolor": "white",
            "gridwidth": 2,
            "linecolor": "white",
            "showbackground": true,
            "ticks": "",
            "zerolinecolor": "white"
           }
          },
          "shapedefaults": {
           "line": {
            "color": "#2a3f5f"
           }
          },
          "ternary": {
           "aaxis": {
            "gridcolor": "white",
            "linecolor": "white",
            "ticks": ""
           },
           "baxis": {
            "gridcolor": "white",
            "linecolor": "white",
            "ticks": ""
           },
           "bgcolor": "#E5ECF6",
           "caxis": {
            "gridcolor": "white",
            "linecolor": "white",
            "ticks": ""
           }
          },
          "title": {
           "x": 0.05
          },
          "xaxis": {
           "automargin": true,
           "gridcolor": "white",
           "linecolor": "white",
           "ticks": "",
           "title": {
            "standoff": 15
           },
           "zerolinecolor": "white",
           "zerolinewidth": 2
          },
          "yaxis": {
           "automargin": true,
           "gridcolor": "white",
           "linecolor": "white",
           "ticks": "",
           "title": {
            "standoff": 15
           },
           "zerolinecolor": "white",
           "zerolinewidth": 2
          }
         }
        },
        "title": {
         "font": {
          "size": 16
         }
        },
        "xaxis": {
         "showgrid": false,
         "showticklabels": false,
         "zeroline": false
        },
        "yaxis": {
         "showgrid": false,
         "showticklabels": false,
         "zeroline": false
        }
       }
      }
     },
     "metadata": {},
     "output_type": "display_data"
    }
   ],
   "source": [
    "interactive_hypergraph(num_vars, clauses, threshold=0)"
   ]
  }
 ],
 "metadata": {
  "kernelspec": {
   "display_name": "Python 3",
   "language": "python",
   "name": "python3"
  },
  "language_info": {
   "codemirror_mode": {
    "name": "ipython",
    "version": 3
   },
   "file_extension": ".py",
   "mimetype": "text/x-python",
   "name": "python",
   "nbconvert_exporter": "python",
   "pygments_lexer": "ipython3",
   "version": "3.11.7"
  }
 },
 "nbformat": 4,
 "nbformat_minor": 2
}
