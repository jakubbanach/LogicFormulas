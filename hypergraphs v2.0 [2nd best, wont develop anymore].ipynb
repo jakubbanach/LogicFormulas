{
 "cells": [
  {
   "cell_type": "code",
   "execution_count": null,
   "metadata": {},
   "outputs": [],
   "source": [
    "import networkx as nx\n",
    "import matplotlib.pyplot as plt\n",
    "from node2vec import Node2Vec\n",
    "import argparse"
   ]
  },
  {
   "cell_type": "code",
   "execution_count": null,
   "metadata": {},
   "outputs": [],
   "source": [
    "def read_dimacs_cnf(filename):\n",
    "    clauses = []\n",
    "    with open(filename, 'r') as file:\n",
    "        for line in file:\n",
    "            if line.startswith(\"c\"):\n",
    "                continue\n",
    "            if line.startswith(\"p cnf\"):\n",
    "                num_vars, num_clauses = map(int, line.strip().split()[2:])\n",
    "            else:\n",
    "                clause = list(map(int, line.strip().split()[:-1]))\n",
    "                clauses.append(clause)\n",
    "    return num_vars, clauses"
   ]
  },
  {
   "cell_type": "code",
   "execution_count": null,
   "metadata": {},
   "outputs": [],
   "source": [
    "def visualize_hypergraph(clauses):\n",
    "    G = nx.DiGraph()\n",
    "    for clause in clauses:\n",
    "        for literal in clause:\n",
    "            G.add_node(abs(literal))  \n",
    "        for i in range(len(clause)):\n",
    "            for j in range(i+1, len(clause)):\n",
    "                G.add_edge(abs(clause[i]), abs(clause[j]))  \n",
    "\n",
    "    pos = nx.spring_layout(G, scale=10) \n",
    "    nx.draw_networkx(G, pos, with_labels=True, node_size=500, arrowsize=20)\n",
    "    plt.show()\n",
    "\n",
    "def generate_node_embeddings(clauses):\n",
    "    G = nx.DiGraph()\n",
    "    for clause in clauses:\n",
    "        for literal in clause:\n",
    "            G.add_node(abs(literal))\n",
    "        for i in range(len(clause)):\n",
    "            for j in range(i+1, len(clause)):\n",
    "                G.add_edge(abs(clause[i]), abs(clause[j]))\n",
    "\n",
    "    node2vec = Node2Vec(G, dimensions=64, walk_length=30, num_walks=200, workers=4)\n",
    "    model = node2vec.fit(window=10, min_count=1, batch_words=4)\n",
    "    return model, G\n",
    "\n",
    "def create_directed_graph(G, model):\n",
    "    G_directed = nx.DiGraph()\n",
    "    for i in sorted(G.nodes):\n",
    "        node, weight = model.wv.most_similar(f'{i}')[0]\n",
    "        G_directed.add_edge(i, int(node), weight=round(weight, 2))\n",
    "\n",
    "    pos = nx.spring_layout(G_directed, scale=10)\n",
    "    nx.draw(G_directed, pos, with_labels=True, node_size=150, arrowsize=20, edge_color='red', font_color='black', font_weight='bold')\n",
    "    labels = nx.get_edge_attributes(G_directed, 'weight')\n",
    "    nx.draw_networkx_edge_labels(G_directed, pos, edge_labels=labels)\n",
    "    plt.title(\"Directed Graph Visualization\")\n",
    "    plt.show()\n",
    "\n",
    "def visualize_hypergraph_coloring(G, model):\n",
    "    pos = nx.spring_layout(G, scale=10)\n",
    "    node_colors = [model.wv.get_vector(str(node))[0] for node in G.nodes]\n",
    "    edge_colors = [model.wv.get_vector(str(edge[0]))[0] for edge in G.edges]\n",
    "    \n",
    "    nx.draw_networkx_nodes(G, pos, node_color=node_colors, cmap=plt.cm.Blues, node_size=500)\n",
    "    nx.draw_networkx_edges(G, pos, edge_color=edge_colors, edge_cmap=plt.cm.Blues, arrowsize=20)\n",
    "    \n",
    "    plt.show()"
   ]
  },
  {
   "cell_type": "code",
   "execution_count": null,
   "metadata": {},
   "outputs": [],
   "source": [
    "def main(filename):\n",
    "    num_vars, clauses = read_dimacs_cnf(filename)\n",
    "    model, G = generate_node_embeddings(clauses)\n",
    "\n",
    "    visualize_hypergraph(clauses)\n",
    "    visualize_hypergraph_coloring(G, model)"
   ]
  },
  {
   "cell_type": "code",
   "execution_count": null,
   "metadata": {},
   "outputs": [],
   "source": [
    "filename = \"DIMACS_files/turbo_easy/example_2.cnf\"\n",
    "main(filename)"
   ]
  }
 ],
 "metadata": {
  "kernelspec": {
   "display_name": "Python 3",
   "language": "python",
   "name": "python3"
  },
  "language_info": {
   "codemirror_mode": {
    "name": "ipython",
    "version": 3
   },
   "file_extension": ".py",
   "mimetype": "text/x-python",
   "name": "python",
   "nbconvert_exporter": "python",
   "pygments_lexer": "ipython3",
   "version": "3.11.6"
  }
 },
 "nbformat": 4,
 "nbformat_minor": 2
}
