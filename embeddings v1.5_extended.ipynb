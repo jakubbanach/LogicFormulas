{
 "cells": [
  {
   "cell_type": "code",
   "execution_count": 1,
   "metadata": {},
   "outputs": [
    {
     "name": "stderr",
     "output_type": "stream",
     "text": [
      "C:\\Users\\user\\AppData\\Local\\Packages\\PythonSoftwareFoundation.Python.3.10_qbz5n2kfra8p0\\LocalCache\\local-packages\\Python310\\site-packages\\tqdm\\auto.py:21: TqdmWarning: IProgress not found. Please update jupyter and ipywidgets. See https://ipywidgets.readthedocs.io/en/stable/user_install.html\n",
      "  from .autonotebook import tqdm as notebook_tqdm\n"
     ]
    }
   ],
   "source": [
    "import networkx as nx\n",
    "import matplotlib.pyplot as plt\n",
    "import argparse\n",
    "from node2vec import Node2Vec\n",
    "import itertools\n",
    "import plotly.graph_objs as go"
   ]
  },
  {
   "cell_type": "code",
   "execution_count": 10,
   "metadata": {},
   "outputs": [],
   "source": [
    "def read_dimacs_cnf(filename):\n",
    "    clauses = []\n",
    "    with open(filename, 'r') as file:\n",
    "        for line in file:\n",
    "            if line.startswith(\"c\"):\n",
    "                continue\n",
    "            if line.startswith(\"p cnf\"):\n",
    "                num_vars, num_clauses = map(int, line.strip().split()[2:])\n",
    "            else:\n",
    "                clause = list(map(int, line.strip().split()[:-1]))\n",
    "                clauses.append(clause)\n",
    "    return num_vars, clauses\n",
    "\n",
    "def generate_node_embeddings(clauses):\n",
    "    G = nx.Graph()\n",
    "    for clause in clauses:\n",
    "        for literal in clause:\n",
    "            G.add_node(abs(literal))\n",
    "        for i in range(len(clause)):\n",
    "            for j in range(i+1, len(clause)):\n",
    "                G.add_edge(abs(clause[i]), abs(clause[j]))\n",
    "\n",
    "    node2vec = Node2Vec(G, dimensions=64, walk_length=30, num_walks=40, workers=4)\n",
    "    model = node2vec.fit(window=10, min_count=1, batch_words=4)\n",
    "    return model, G"
   ]
  },
  {
   "cell_type": "code",
   "execution_count": 3,
   "metadata": {},
   "outputs": [],
   "source": [
    "def utworzSkierowanyGraf(G1, model_2):\n",
    "    G2 = nx.DiGraph()\n",
    "    for i in G1.nodes:\n",
    "        node, waga = model_2.wv.most_similar(f'{i}')[0]\n",
    "        G2.add_edge(i, int(node))\n",
    "\n",
    "    # pos = nx.shell_layout(G2)\n",
    "    pos = nx.spring_layout(G2, scale=10) # pozycjonowanie wierzchołków\n",
    "    nx.draw(G2, pos, with_labels=True, node_size=150, arrowsize=20) \n",
    "    labels = nx.get_edge_attributes(G2, 'weight') # pobranie wag krawędzi\n",
    "    nx.draw_networkx_edge_labels(G2, pos, edge_labels=labels) # rysowanie wag krawędzi\n",
    "    plt.show()\n",
    "    return G2, pos"
   ]
  },
  {
   "cell_type": "code",
   "execution_count": 4,
   "metadata": {},
   "outputs": [],
   "source": [
    "# nazwa = \"DIMACS_files/easy/sat/Analiza1-itox_vc1033.cnf\"\n",
    "# cala_operacja(nazwa)"
   ]
  },
  {
   "cell_type": "code",
   "execution_count": null,
   "metadata": {},
   "outputs": [],
   "source": [
    "# nazwa = \"DIMACS_files/medium/unsat/Analiza1-AProVE07-08.cnf\"\n",
    "# cala_operacja(nazwa)"
   ]
  },
  {
   "cell_type": "code",
   "execution_count": 5,
   "metadata": {},
   "outputs": [],
   "source": [
    "def interactive_directed_graph(G, pos):\n",
    "    edge_trace = go.Scatter(\n",
    "        x=[],\n",
    "        y=[],\n",
    "        line=dict(width=1, color='#888'),\n",
    "        hoverinfo='none',\n",
    "        mode='lines',\n",
    "        marker=dict(\n",
    "            showscale=False,\n",
    "            colorscale='Blues',\n",
    "            reversescale=True,\n",
    "            color=[],\n",
    "            size=5,\n",
    "            colorbar=dict(\n",
    "                thickness=15,\n",
    "                title='Weight',\n",
    "                xanchor='left',\n",
    "                titleside='right'\n",
    "            ),\n",
    "            line=dict(width=2)))\n",
    "\n",
    "    for edge in G.edges():\n",
    "        x0, y0 = pos[edge[0]]\n",
    "        x1, y1 = pos[edge[1]]\n",
    "        edge_trace['x'] += (x0, x1, None)\n",
    "        edge_trace['y'] += (y0, y1, None)\n",
    "\n",
    "    # Dodanie strzałek na krawędziach skierowanych\n",
    "    arrows = []\n",
    "    for edge in G.edges():\n",
    "        x0, y0 = pos[edge[0]]\n",
    "        x1, y1 = pos[edge[1]]\n",
    "        arrows.append(go.Scatter(x=[x0, x1, None], y=[y0, y1, None],\n",
    "                                 mode='lines',\n",
    "                                 line=dict(color='black', width=1),\n",
    "                                 hoverinfo='none',\n",
    "                                 showlegend=False))\n",
    "\n",
    "    arrow_annotations = []\n",
    "    for edge in G.edges():\n",
    "        x0, y0 = pos[edge[0]]\n",
    "        x1, y1 = pos[edge[1]]\n",
    "        arrow_annotations.append(\n",
    "            dict(\n",
    "                x=x1, y=y1,\n",
    "                xref='x', yref='y',\n",
    "                showarrow=True,\n",
    "                arrowhead=3,\n",
    "                arrowsize=1,\n",
    "                arrowwidth=1,\n",
    "                arrowcolor='black',\n",
    "                ax=x0, ay=y0\n",
    "            )\n",
    "        )\n",
    "\n",
    "    node_trace = go.Scatter(\n",
    "        x=[],\n",
    "        y=[],\n",
    "        text=[],\n",
    "        mode='markers+text',\n",
    "        hoverinfo='text',\n",
    "        marker=dict(\n",
    "            colorscale='Blues',\n",
    "            reversescale=False,\n",
    "            color=[],\n",
    "            size=10,\n",
    "            colorbar=dict(\n",
    "                thickness=15,\n",
    "                title='Node Degree',\n",
    "                xanchor='left',\n",
    "                titleside='right'\n",
    "            ),\n",
    "            line=dict(width=2)))\n",
    "\n",
    "    for node in G.nodes():\n",
    "        x, y = pos[node]\n",
    "        node_trace['x'] += (x,)\n",
    "        node_trace['y'] += (y,)\n",
    "        node_trace['text'] += ('Var: ' + str(node),)\n",
    "\n",
    "    for node, adjacencies in enumerate(G.adjacency()):\n",
    "        node_trace['marker']['color'] += (len(adjacencies[1]),)\n",
    "\n",
    "    layout = go.Layout(\n",
    "        titlefont=dict(size=12),\n",
    "        showlegend=False,\n",
    "        hovermode='closest',\n",
    "        margin=dict(b=5, l=5, r=5, t=5),\n",
    "        annotations=[dict(\n",
    "            text=\"\",\n",
    "            showarrow=False,\n",
    "            xref=\"paper\", yref=\"paper\")],\n",
    "        xaxis=dict(showgrid=False, zeroline=False, showticklabels=False),\n",
    "        yaxis=dict(showgrid=False, zeroline=False, showticklabels=False))\n",
    "\n",
    "    fig = go.Figure(data=[edge_trace, node_trace], layout=layout)\n",
    "    fig.show()\n"
   ]
  },
  {
   "cell_type": "code",
   "execution_count": 11,
   "metadata": {},
   "outputs": [
    {
     "name": "stdout",
     "output_type": "stream",
     "text": [
      "Number of variables: 100 [[16, 30, 95], [-16, 30, 95], [-30, 35, 78], [-30, -78, 85], [-78, -85, 95], [8, 55, 100], [8, 55, -95], [9, 52, 100], [9, 73, -100], [-8, -9, 52], [38, 66, 83], [-38, 83, 87], [-52, 83, -87], [66, 74, -83], [-52, -66, 89], [-52, 73, -89], [-52, 73, -74], [-8, -73, -95], [40, -55, 90], [-40, -55, 90], [25, 35, 82], [-25, 82, -90], [-55, -82, -90], [11, 75, 84], [11, -75, 96], [23, -75, -96], [-11, 23, -35], [-23, 29, 65], [29, -35, -65], [-23, -29, 84], [-35, 54, 70], [-54, 70, 77], [19, -77, -84], [-19, -54, 70], [22, 68, 81], [-22, 48, 81], [-22, -48, 93], [3, -48, -93], [7, 18, -81], [-7, 56, -81], [3, 18, -56], [-18, 47, 68], [-18, -47, -81], [-3, 68, 77], [-3, -77, -84], [19, -68, -70], [-19, -68, 74], [-68, -70, -74], [54, 61, -62], [50, 53, -62], [-50, 61, -62], [-27, 56, 93], [4, 14, 76], [4, -76, 96], [-4, 14, 80], [-14, -68, 80], [-10, -39, -89], [1, 49, -81], [1, 26, -49], [17, -26, -49], [-1, 17, -40], [16, 51, -89], [-9, 57, 60], [12, 45, -51], [2, 12, 69], [2, -12, 40], [-12, -51, 69], [-33, 60, -98], [5, -32, -66], [2, -47, -100], [-42, 64, 83], [20, -42, -64], [20, -48, 98], [-20, 50, 98], [-32, -50, 98], [-24, 37, -73], [-24, -37, -100], [-57, 71, 81], [-37, 40, -91], [31, 42, 81], [-31, 42, 72], [-31, 42, -72], [7, -19, 25], [-1, -25, -94], [-15, -44, 79], [-6, 31, 46], [-39, 41, 88], [28, -39, 43], [28, -43, -88], [-4, -28, -88], [-30, -39, -41], [-29, 33, 88], [-16, 21, 94], [-10, 26, 62], [-11, -64, 86], [-6, -41, 76], [38, -46, 93], [26, -37, 94], [-26, 53, -79], [78, 87, -94], [65, 76, -87], [23, 51, -62], [-11, -36, 57], [41, 59, -65], [-56, 72, -91], [13, -20, -46], [-13, 15, 79], [-17, 47, -60], [-13, -44, 99], [-7, -38, 67], [37, -49, 62], [-14, -17, -79], [-13, -15, -22], [32, -33, -34], [24, 45, 48], [21, 24, -48], [-36, 64, -85], [10, -61, 67], [-5, 44, 59], [-80, -85, -99], [6, 37, -97], [-21, -34, 64], [-5, 44, 46], [58, -76, 97], [-21, -36, 75], [-15, 58, -59], [-58, -76, -99], [-2, 15, 33], [-26, 34, -57], [-18, -82, -92], [27, -80, -97], [6, 32, 63], [-34, -86, 92], [13, -61, 97], [-28, 43, -98], [5, 39, -86], [39, -45, 92], [27, -43, 97], [13, -58, -86], [-28, -67, -93], [-69, 85, 99], [42, 71, -72], [10, -27, -63], [-59, 63, -83], [36, 86, -96], [-2, 36, 75], [-59, -71, 89], [36, -67, 91], [36, -60, 63], [-63, 91, -93], [25, 87, 92], [-21, 49, -71], [-2, 10, 22], [6, -18, 41], [6, 71, -92], [-53, -69, -71], [-2, -53, -58], [43, -45, -96], [34, -45, -69], [63, -86, -98]]\n"
     ]
    },
    {
     "name": "stderr",
     "output_type": "stream",
     "text": [
      "Computing transition probabilities:   0%|          | 0/100 [00:00<?, ?it/s]"
     ]
    },
    {
     "name": "stderr",
     "output_type": "stream",
     "text": [
      "Computing transition probabilities: 100%|██████████| 100/100 [00:00<00:00, 1136.62it/s]\n"
     ]
    },
    {
     "name": "stdout",
     "output_type": "stream",
     "text": [
      "[('17', 0.7024582624435425), ('49', 0.6901268362998962), ('26', 0.678525447845459), ('94', 0.6160147190093994), ('40', 0.5572779178619385), ('25', 0.5365127325057983), ('79', 0.5255820155143738), ('90', 0.5227475762367249), ('81', 0.5057581663131714), ('55', 0.490971177816391)]\n"
     ]
    },
    {
     "data": {
      "image/png": "[encoded data removed]",
      "text/plain": [
       "<Figure size 640x480 with 1 Axes>"
      ]
     },
     "metadata": {},
     "output_type": "display_data"
    },
    {
     "name": "stdout",
     "output_type": "stream",
     "text": [
      "[(16, 78), (78, 30), (30, 78), (95, 30), (35, 23), (23, 75), (85, 30), (8, 100), (100, 8), (55, 90), (90, 82), (9, 8), (52, 73), (73, 8), (38, 83), (83, 66), (66, 52), (87, 25), (25, 82), (74, 52), (89, 66), (40, 90), (82, 90), (11, 75), (75, 11), (84, 77), (77, 70), (96, 75), (29, 23), (65, 29), (54, 70), (70, 77), (19, 77), (22, 15), (15, 44), (68, 77), (81, 72), (72, 42), (48, 24), (24, 73), (93, 56), (56, 93), (3, 77), (7, 93), (18, 56), (47, 60), (60, 57), (61, 62), (62, 61), (50, 53), (53, 50), (27, 80), (80, 14), (4, 43), (43, 28), (14, 4), (76, 4), (10, 61), (39, 88), (88, 28), (1, 17), (17, 1), (49, 26), (26, 49), (51, 45), (45, 69), (57, 60), (12, 69), (69, 12), (2, 15), (33, 98), (98, 32), (32, 98), (5, 66), (42, 31), (31, 42), (64, 36), (36, 11), (20, 64), (37, 100), (71, 31), (91, 56), (94, 78), (44, 15), (79, 15), (6, 41), (41, 39), (46, 44), (28, 88), (21, 16), (86, 11), (59, 15), (13, 44), (99, 58), (58, 99), (67, 93), (34, 86), (97, 99), (92, 82), (63, 32)]\n"
     ]
    },
    {
     "data": {
      "application/vnd.plotly.v1+json": {
       "config": {
        "plotlyServerURL": "https://plot.ly"
       },
       "data": [
        {
         "hoverinfo": "none",
         "line": {
          "color": "#888",
          "width": 1
         },
         "marker": {
          "color": [],
          "colorbar": {
           "thickness": 15,
           "title": {
            "side": "right",
            "text": "Weight"
           },
           "xanchor": "left"
          },
          "colorscale": [
           [
            0,
            "rgb(247,251,255)"
           ],
           [
            0.125,
            "rgb(222,235,247)"
           ],
           [
            0.25,
            "rgb(198,219,239)"
           ],
           [
            0.375,
            "rgb(158,202,225)"
           ],
           [
            0.5,
            "rgb(107,174,214)"
           ],
           [
            0.625,
            "rgb(66,146,198)"
           ],
           [
            0.75,
            "rgb(33,113,181)"
           ],
           [
            0.875,
            "rgb(8,81,156)"
           ],
           [
            1,
            "rgb(8,48,107)"
           ]
          ],
          "line": {
           "width": 2
          },
          "reversescale": true,
          "showscale": false,
          "size": 5
         },
         "mode": "lines",
         "type": "scatter",
         "x": [
          2.53437413357855,
          2.9106244973161743,
          null,
          2.9106244973161743,
          3.088206628041561,
          null,
          3.088206628041561,
          2.9106244973161743,
          null,
          2.661682142464716,
          3.088206628041561,
          null,
          -3.619144443415486,
          -3.840299886908767,
          null,
          -3.840299886908767,
          -4.346376821390009,
          null,
          3.4537683163555735,
          3.088206628041561,
          null,
          -7.058155914906356,
          -6.833694705763066,
          null,
          -6.833694705763066,
          -7.058155914906356,
          null,
          5.194082445921445,
          5.580594716384748,
          null,
          5.580594716384748,
          5.173292397192926,
          null,
          -7.572367352599188,
          -7.058155914906356,
          null,
          -6.190748807372758,
          -6.56044444854201,
          null,
          -6.56044444854201,
          -7.058155914906356,
          null,
          -5.358751309190956,
          -5.435489582146393,
          null,
          -5.435489582146393,
          -5.568927212066774,
          null,
          -5.568927212066774,
          -6.190748807372758,
          null,
          4.284563074841209,
          4.565753563478718,
          null,
          4.565753563478718,
          5.173292397192926,
          null,
          -5.8500640508498565,
          -6.190748807372758,
          null,
          -5.454367770402745,
          -5.568927212066774,
          null,
          4.37682350430121,
          5.580594716384748,
          null,
          5.173292397192926,
          5.580594716384748,
          null,
          -4.676119044062588,
          -4.346376821390009,
          null,
          -4.346376821390009,
          -4.676119044062588,
          null,
          1.3855865443006852,
          1.2226376420862333,
          null,
          1.2226376420862333,
          1.215959141168863,
          null,
          -3.4302418990413006,
          -4.346376821390009,
          null,
          -3.2813502528856584,
          -3.840299886908767,
          null,
          -2.8606796456781067,
          -3.2813502528856584,
          null,
          1.1772887012473714,
          1.215959141168863,
          null,
          1.215959141168863,
          1.2226376420862333,
          null,
          1.20625937287054,
          1.2226376420862333,
          null,
          6.275088196333985,
          6.584376375518154,
          null,
          6.584376375518154,
          7.110202639781756,
          null,
          1.0517827925158951,
          1.2226376420862333,
          null,
          -8.116233942593622,
          -9.947011918416342,
          null,
          -9.947011918416342,
          -9.433092603253673,
          null,
          -4.988384021511334,
          -5.7822611134994,
          null,
          -5.7822611134994,
          -6.56044444854201,
          null,
          0.22988299260401907,
          0.40702405856618,
          null,
          0.40702405856618,
          0.22988299260401907,
          null,
          1.1656600546471338,
          1.2226376420862333,
          null,
          -0.14360682605933664,
          0.22988299260401907,
          null,
          0.17398154990583475,
          0.40702405856618,
          null,
          -6.922603396154571,
          -7.683272081004811,
          null,
          -7.683272081004811,
          -7.9201401694564275,
          null,
          4.44439718618858,
          4.4635503259947,
          null,
          4.4635503259947,
          4.44439718618858,
          null,
          7.828149473203855,
          7.4848514916294615,
          null,
          7.4848514916294615,
          7.828149473203855,
          null,
          2.6770168160303895,
          3.308616978710847,
          null,
          3.308616978710847,
          4.138809455672772,
          null,
          4.895323815810955,
          5.9442091753585276,
          null,
          5.9442091753585276,
          6.832397093061009,
          null,
          4.138809455672772,
          4.895323815810955,
          null,
          3.907195579634206,
          4.895323815810955,
          null,
          4.122171359374753,
          4.44439718618858,
          null,
          7.485634326264711,
          7.134959418268452,
          null,
          7.134959418268452,
          6.832397093061009,
          null,
          -1.2955052902819457,
          -1.1695270431720968,
          null,
          -1.1695270431720968,
          -1.2955052902819457,
          null,
          -7.996833075114242,
          -7.592824338635117,
          null,
          -7.592824338635117,
          -7.996833075114242,
          null,
          -3.814907350399462,
          -4.060049073928979,
          null,
          -4.060049073928979,
          -3.6502103515680617,
          null,
          -7.9201401694564275,
          -7.683272081004811,
          null,
          -3.4474068026093905,
          -3.6502103515680617,
          null,
          -3.6502103515680617,
          -3.4474068026093905,
          null,
          6.735177825182607,
          6.584376375518154,
          null,
          6.988088161757325,
          8.127931139540689,
          null,
          8.127931139540689,
          8.084192850320804,
          null,
          8.084192850320804,
          8.127931139540689,
          null,
          -4.863890890236513,
          -5.568927212066774,
          null,
          -9.433092603253673,
          -10,
          null,
          -10,
          -9.433092603253673,
          null,
          -3.6226878499141613,
          -4.122276286756534,
          null,
          -4.122276286756534,
          -4.676119044062588,
          null,
          -3.0097259918541317,
          -3.6226878499141613,
          null,
          -7.078197905432839,
          -6.833694705763066,
          null,
          -8.856558988434543,
          -10,
          null,
          -0.129468891221195,
          0.40702405856618,
          null,
          2.298153842162728,
          2.9106244973161743,
          null,
          7.110202639781756,
          6.584376375518154,
          null,
          4.623324224061745,
          6.584376375518154,
          null,
          4.8277992631728175,
          5.897451306916481,
          null,
          5.897451306916481,
          7.485634326264711,
          null,
          5.6848175603761035,
          7.110202639781756,
          null,
          6.832397093061009,
          7.134959418268452,
          null,
          2.3484375552962162,
          2.53437413357855,
          null,
          -4.741040835391733,
          -4.676119044062588,
          null,
          5.58075092183067,
          6.584376375518154,
          null,
          5.163656225588914,
          7.110202639781756,
          null,
          2.300890207310241,
          2.5896395185787062,
          null,
          2.5896395185787062,
          2.300890207310241,
          null,
          -0.2756466688656782,
          0.22988299260401907,
          null,
          -4.850891820780883,
          -4.741040835391733,
          null,
          1.6256395085210564,
          2.300890207310241,
          null,
          5.675214943487892,
          5.173292397192926,
          null,
          7.203535643037363,
          8.084192850320804,
          null
         ],
         "y": [
          6.780877345970568,
          7.869695343120011,
          null,
          7.869695343120011,
          8.424261313132753,
          null,
          8.424261313132753,
          7.869695343120011,
          null,
          8.285141942894866,
          8.424261313132753,
          null,
          -4.5193637581290655,
          -5.300735184384273,
          null,
          -5.300735184384273,
          -6.151817073532369,
          null,
          8.379156682154353,
          8.424261313132753,
          null,
          4.055496686122402,
          4.306797702476412,
          null,
          4.306797702476412,
          4.055496686122402,
          null,
          5.472050554508543,
          5.331680736846048,
          null,
          5.331680736846048,
          4.930061115892882,
          null,
          4.194017364054071,
          4.055496686122402,
          null,
          2.9930053104265255,
          3.4884422364222134,
          null,
          3.4884422364222134,
          4.055496686122402,
          null,
          1.0542066984424254,
          1.6696229405381027,
          null,
          1.6696229405381027,
          2.1401105295815572,
          null,
          2.1401105295815572,
          2.9930053104265255,
          null,
          3.829433093066992,
          4.162346940034899,
          null,
          4.162346940034899,
          4.930061115892882,
          null,
          2.252549665399755,
          2.9930053104265255,
          null,
          1.4120988370059406,
          2.1401105295815572,
          null,
          4.308161983085289,
          5.331680736846048,
          null,
          4.930061115892882,
          5.331680736846048,
          null,
          -6.732222949840249,
          -6.151817073532369,
          null,
          -6.151817073532369,
          -6.732222949840249,
          null,
          -6.824232361312713,
          -8.566541372566956,
          null,
          -8.566541372566956,
          -8.000092241120225,
          null,
          -4.852555197265248,
          -6.151817073532369,
          null,
          -4.406035317470365,
          -5.300735184384273,
          null,
          -3.5883235565260185,
          -4.406035317470365,
          null,
          -6.489006524005521,
          -8.000092241120225,
          null,
          -8.000092241120225,
          -8.566541372566956,
          null,
          -6.913666554609137,
          -8.566541372566956,
          null,
          -3.94243861129945,
          -3.593705302908909,
          null,
          -3.593705302908909,
          -3.808705618874181,
          null,
          -6.745039490759581,
          -8.566541372566956,
          null,
          -1.0914744323176637,
          -0.9851160541093033,
          null,
          -0.9851160541093033,
          -0.7137021216844542,
          null,
          2.062905059194383,
          2.7553184755571336,
          null,
          2.7553184755571336,
          3.4884422364222134,
          null,
          8.008580330942667,
          8.314276123248307,
          null,
          8.314276123248307,
          8.008580330942667,
          null,
          -6.033276079239961,
          -8.566541372566956,
          null,
          8.491239874257845,
          8.008580330942667,
          null,
          8.753324317078702,
          8.314276123248307,
          null,
          0.6765094017540246,
          0.9214602874454241,
          null,
          0.9214602874454241,
          1.1454310374043202,
          null,
          -6.6932019982329205,
          -7.011226970628693,
          null,
          -7.011226970628693,
          -6.6932019982329205,
          null,
          -2.1873973488858374,
          -2.1122182290577625,
          null,
          -2.1122182290577625,
          -2.1873973488858374,
          null,
          0.1748647893027887,
          -0.03744097377806752,
          null,
          -0.03744097377806752,
          -0.22157653873397812,
          null,
          -0.40027089749412464,
          -0.43910252050806475,
          null,
          -0.43910252050806475,
          -0.38290698669535767,
          null,
          -0.22157653873397812,
          -0.40027089749412464,
          null,
          -0.382975865521703,
          -0.40027089749412464,
          null,
          -6.206703552682481,
          -6.6932019982329205,
          null,
          -0.39908155501804377,
          -0.5546635635585571,
          null,
          -0.5546635635585571,
          -0.38290698669535767,
          null,
          -6.973992461089522,
          -6.471803743303167,
          null,
          -6.471803743303167,
          -6.973992461089522,
          null,
          -4.869152972265752,
          -4.624865826962326,
          null,
          -4.624865826962326,
          -4.869152972265752,
          null,
          7.419872695225786,
          8.336793504260992,
          null,
          8.336793504260992,
          8.10657940861817,
          null,
          1.1454310374043202,
          0.9214602874454241,
          null,
          8.34354667259899,
          8.10657940861817,
          null,
          8.10657940861817,
          8.34354667259899,
          null,
          -4.068144363946903,
          -3.593705302908909,
          null,
          1.9608616826575052,
          2.3728782768391437,
          null,
          2.3728782768391437,
          2.6927139182113957,
          null,
          2.6927139182113957,
          2.3728782768391437,
          null,
          1.3443763985663488,
          2.1401105295815572,
          null,
          -0.7137021216844542,
          -0.6157034203680343,
          null,
          -0.6157034203680343,
          -0.7137021216844542,
          null,
          -6.159399278993503,
          -6.415385368093242,
          null,
          -6.415385368093242,
          -6.732222949840249,
          null,
          -5.4768506371333565,
          -6.159399278993503,
          null,
          4.772099632711227,
          4.306797702476412,
          null,
          -0.6792641833646132,
          -0.6157034203680343,
          null,
          8.220550264525535,
          8.314276123248307,
          null,
          6.861912727164637,
          7.869695343120011,
          null,
          -3.808705618874181,
          -3.593705302908909,
          null,
          -2.8663632731309256,
          -3.593705302908909,
          null,
          0.18591095512465114,
          -0.133537811109618,
          null,
          -0.133537811109618,
          -0.39908155501804377,
          null,
          -3.2136924373926465,
          -3.808705618874181,
          null,
          -0.38290698669535767,
          -0.5546635635585571,
          null,
          6.385085352875381,
          6.780877345970568,
          null,
          -6.334091786550801,
          -6.732222949840249,
          null,
          -3.4459879342239983,
          -3.593705302908909,
          null,
          -3.0821699765031454,
          -3.808705618874181,
          null,
          -7.5384158015720155,
          -7.640743946398195,
          null,
          -7.640743946398195,
          -7.5384158015720155,
          null,
          7.624892797903519,
          8.008580330942667,
          null,
          -5.816967704791663,
          -6.334091786550801,
          null,
          -6.0164854124604705,
          -7.5384158015720155,
          null,
          4.968947213207992,
          4.930061115892882,
          null,
          2.4896889245516562,
          2.6927139182113957,
          null
         ]
        },
        {
         "hoverinfo": "text",
         "marker": {
          "color": [
           1,
           1,
           1,
           1,
           1,
           1,
           1,
           1,
           1,
           1,
           1,
           1,
           1,
           1,
           1,
           1,
           1,
           1,
           1,
           1,
           1,
           1,
           1,
           1,
           1,
           1,
           1,
           1,
           1,
           1,
           1,
           1,
           1,
           1,
           1,
           1,
           1,
           1,
           1,
           1,
           1,
           1,
           1,
           1,
           1,
           1,
           1,
           1,
           1,
           1,
           1,
           1,
           1,
           1,
           1,
           1,
           1,
           1,
           1,
           1,
           1,
           1,
           1,
           1,
           1,
           1,
           1,
           1,
           1,
           1,
           1,
           1,
           1,
           1,
           1,
           1,
           1,
           1,
           1,
           1,
           1,
           1,
           1,
           1,
           1,
           1,
           1,
           1,
           1,
           1,
           1,
           1,
           1,
           1,
           1,
           1,
           1,
           1,
           1,
           1
          ],
          "colorbar": {
           "thickness": 15,
           "title": {
            "side": "right",
            "text": "Node Degree"
           },
           "xanchor": "left"
          },
          "colorscale": [
           [
            0,
            "rgb(247,251,255)"
           ],
           [
            0.125,
            "rgb(222,235,247)"
           ],
           [
            0.25,
            "rgb(198,219,239)"
           ],
           [
            0.375,
            "rgb(158,202,225)"
           ],
           [
            0.5,
            "rgb(107,174,214)"
           ],
           [
            0.625,
            "rgb(66,146,198)"
           ],
           [
            0.75,
            "rgb(33,113,181)"
           ],
           [
            0.875,
            "rgb(8,81,156)"
           ],
           [
            1,
            "rgb(8,48,107)"
           ]
          ],
          "line": {
           "width": 2
          },
          "reversescale": false,
          "size": 10
         },
         "mode": "markers+text",
         "text": [
          "Var: 16",
          "Var: 78",
          "Var: 30",
          "Var: 95",
          "Var: 35",
          "Var: 23",
          "Var: 85",
          "Var: 8",
          "Var: 100",
          "Var: 55",
          "Var: 90",
          "Var: 9",
          "Var: 52",
          "Var: 73",
          "Var: 38",
          "Var: 83",
          "Var: 66",
          "Var: 87",
          "Var: 25",
          "Var: 74",
          "Var: 89",
          "Var: 40",
          "Var: 82",
          "Var: 11",
          "Var: 75",
          "Var: 84",
          "Var: 77",
          "Var: 96",
          "Var: 29",
          "Var: 65",
          "Var: 54",
          "Var: 70",
          "Var: 19",
          "Var: 22",
          "Var: 15",
          "Var: 68",
          "Var: 81",
          "Var: 72",
          "Var: 48",
          "Var: 24",
          "Var: 93",
          "Var: 56",
          "Var: 3",
          "Var: 7",
          "Var: 18",
          "Var: 47",
          "Var: 60",
          "Var: 61",
          "Var: 62",
          "Var: 50",
          "Var: 53",
          "Var: 27",
          "Var: 80",
          "Var: 4",
          "Var: 43",
          "Var: 14",
          "Var: 76",
          "Var: 10",
          "Var: 39",
          "Var: 88",
          "Var: 1",
          "Var: 17",
          "Var: 49",
          "Var: 26",
          "Var: 51",
          "Var: 45",
          "Var: 57",
          "Var: 12",
          "Var: 69",
          "Var: 2",
          "Var: 33",
          "Var: 98",
          "Var: 32",
          "Var: 5",
          "Var: 42",
          "Var: 31",
          "Var: 64",
          "Var: 36",
          "Var: 20",
          "Var: 37",
          "Var: 71",
          "Var: 91",
          "Var: 94",
          "Var: 44",
          "Var: 79",
          "Var: 6",
          "Var: 41",
          "Var: 46",
          "Var: 28",
          "Var: 21",
          "Var: 86",
          "Var: 59",
          "Var: 13",
          "Var: 99",
          "Var: 58",
          "Var: 67",
          "Var: 34",
          "Var: 97",
          "Var: 92",
          "Var: 63"
         ],
         "type": "scatter",
         "x": [
          2.53437413357855,
          2.9106244973161743,
          3.088206628041561,
          2.661682142464716,
          -3.619144443415486,
          -3.840299886908767,
          3.4537683163555735,
          -7.058155914906356,
          -6.833694705763066,
          5.194082445921445,
          5.580594716384748,
          -7.572367352599188,
          -6.190748807372758,
          -6.56044444854201,
          -5.358751309190956,
          -5.435489582146393,
          -5.568927212066774,
          4.284563074841209,
          4.565753563478718,
          -5.8500640508498565,
          -5.454367770402745,
          4.37682350430121,
          5.173292397192926,
          -4.676119044062588,
          -4.346376821390009,
          1.3855865443006852,
          1.2226376420862333,
          -3.4302418990413006,
          -3.2813502528856584,
          -2.8606796456781067,
          1.1772887012473714,
          1.215959141168863,
          1.20625937287054,
          6.275088196333985,
          6.584376375518154,
          1.0517827925158951,
          -8.116233942593622,
          -9.947011918416342,
          -4.988384021511334,
          -5.7822611134994,
          0.22988299260401907,
          0.40702405856618,
          1.1656600546471338,
          -0.14360682605933664,
          0.17398154990583475,
          -6.922603396154571,
          -7.683272081004811,
          4.44439718618858,
          4.4635503259947,
          7.828149473203855,
          7.4848514916294615,
          2.6770168160303895,
          3.308616978710847,
          4.895323815810955,
          5.9442091753585276,
          4.138809455672772,
          3.907195579634206,
          4.122171359374753,
          7.485634326264711,
          7.134959418268452,
          -1.2955052902819457,
          -1.1695270431720968,
          -7.996833075114242,
          -7.592824338635117,
          -3.814907350399462,
          -4.060049073928979,
          -7.9201401694564275,
          -3.4474068026093905,
          -3.6502103515680617,
          6.735177825182607,
          6.988088161757325,
          8.127931139540689,
          8.084192850320804,
          -4.863890890236513,
          -9.433092603253673,
          -10,
          -3.6226878499141613,
          -4.122276286756534,
          -3.0097259918541317,
          -7.078197905432839,
          -8.856558988434543,
          -0.129468891221195,
          2.298153842162728,
          7.110202639781756,
          4.623324224061745,
          4.8277992631728175,
          5.897451306916481,
          5.6848175603761035,
          6.832397093061009,
          2.3484375552962162,
          -4.741040835391733,
          5.58075092183067,
          5.163656225588914,
          2.300890207310241,
          2.5896395185787062,
          -0.2756466688656782,
          -4.850891820780883,
          1.6256395085210564,
          5.675214943487892,
          7.203535643037363
         ],
         "y": [
          6.780877345970568,
          7.869695343120011,
          8.424261313132753,
          8.285141942894866,
          -4.5193637581290655,
          -5.300735184384273,
          8.379156682154353,
          4.055496686122402,
          4.306797702476412,
          5.472050554508543,
          5.331680736846048,
          4.194017364054071,
          2.9930053104265255,
          3.4884422364222134,
          1.0542066984424254,
          1.6696229405381027,
          2.1401105295815572,
          3.829433093066992,
          4.162346940034899,
          2.252549665399755,
          1.4120988370059406,
          4.308161983085289,
          4.930061115892882,
          -6.732222949840249,
          -6.151817073532369,
          -6.824232361312713,
          -8.566541372566956,
          -4.852555197265248,
          -4.406035317470365,
          -3.5883235565260185,
          -6.489006524005521,
          -8.000092241120225,
          -6.913666554609137,
          -3.94243861129945,
          -3.593705302908909,
          -6.745039490759581,
          -1.0914744323176637,
          -0.9851160541093033,
          2.062905059194383,
          2.7553184755571336,
          8.008580330942667,
          8.314276123248307,
          -6.033276079239961,
          8.491239874257845,
          8.753324317078702,
          0.6765094017540246,
          0.9214602874454241,
          -6.6932019982329205,
          -7.011226970628693,
          -2.1873973488858374,
          -2.1122182290577625,
          0.1748647893027887,
          -0.03744097377806752,
          -0.40027089749412464,
          -0.43910252050806475,
          -0.22157653873397812,
          -0.382975865521703,
          -6.206703552682481,
          -0.39908155501804377,
          -0.5546635635585571,
          -6.973992461089522,
          -6.471803743303167,
          -4.869152972265752,
          -4.624865826962326,
          7.419872695225786,
          8.336793504260992,
          1.1454310374043202,
          8.34354667259899,
          8.10657940861817,
          -4.068144363946903,
          1.9608616826575052,
          2.3728782768391437,
          2.6927139182113957,
          1.3443763985663488,
          -0.7137021216844542,
          -0.6157034203680343,
          -6.159399278993503,
          -6.415385368093242,
          -5.4768506371333565,
          4.772099632711227,
          -0.6792641833646132,
          8.220550264525535,
          6.861912727164637,
          -3.808705618874181,
          -2.8663632731309256,
          0.18591095512465114,
          -0.133537811109618,
          -3.2136924373926465,
          -0.38290698669535767,
          6.385085352875381,
          -6.334091786550801,
          -3.4459879342239983,
          -3.0821699765031454,
          -7.5384158015720155,
          -7.640743946398195,
          7.624892797903519,
          -5.816967704791663,
          -6.0164854124604705,
          4.968947213207992,
          2.4896889245516562
         ]
        }
       ],
       "layout": {
        "annotations": [
         {
          "showarrow": false,
          "text": "",
          "xref": "paper",
          "yref": "paper"
         }
        ],
        "hovermode": "closest",
        "margin": {
         "b": 5,
         "l": 5,
         "r": 5,
         "t": 5
        },
        "showlegend": false,
        "template": {
         "data": {
          "bar": [
           {
            "error_x": {
             "color": "#2a3f5f"
            },
            "error_y": {
             "color": "#2a3f5f"
            },
            "marker": {
             "line": {
              "color": "#E5ECF6",
              "width": 0.5
             },
             "pattern": {
              "fillmode": "overlay",
              "size": 10,
              "solidity": 0.2
             }
            },
            "type": "bar"
           }
          ],
          "barpolar": [
           {
            "marker": {
             "line": {
              "color": "#E5ECF6",
              "width": 0.5
             },
             "pattern": {
              "fillmode": "overlay",
              "size": 10,
              "solidity": 0.2
             }
            },
            "type": "barpolar"
           }
          ],
          "carpet": [
           {
            "aaxis": {
             "endlinecolor": "#2a3f5f",
             "gridcolor": "white",
             "linecolor": "white",
             "minorgridcolor": "white",
             "startlinecolor": "#2a3f5f"
            },
            "baxis": {
             "endlinecolor": "#2a3f5f",
             "gridcolor": "white",
             "linecolor": "white",
             "minorgridcolor": "white",
             "startlinecolor": "#2a3f5f"
            },
            "type": "carpet"
           }
          ],
          "choropleth": [
           {
            "colorbar": {
             "outlinewidth": 0,
             "ticks": ""
            },
            "type": "choropleth"
           }
          ],
          "contour": [
           {
            "colorbar": {
             "outlinewidth": 0,
             "ticks": ""
            },
            "colorscale": [
             [
              0,
              "#0d0887"
             ],
             [
              0.1111111111111111,
              "#46039f"
             ],
             [
              0.2222222222222222,
              "#7201a8"
             ],
             [
              0.3333333333333333,
              "#9c179e"
             ],
             [
              0.4444444444444444,
              "#bd3786"
             ],
             [
              0.5555555555555556,
              "#d8576b"
             ],
             [
              0.6666666666666666,
              "#ed7953"
             ],
             [
              0.7777777777777778,
              "#fb9f3a"
             ],
             [
              0.8888888888888888,
              "#fdca26"
             ],
             [
              1,
              "#f0f921"
             ]
            ],
            "type": "contour"
           }
          ],
          "contourcarpet": [
           {
            "colorbar": {
             "outlinewidth": 0,
             "ticks": ""
            },
            "type": "contourcarpet"
           }
          ],
          "heatmap": [
           {
            "colorbar": {
             "outlinewidth": 0,
             "ticks": ""
            },
            "colorscale": [
             [
              0,
              "#0d0887"
             ],
             [
              0.1111111111111111,
              "#46039f"
             ],
             [
              0.2222222222222222,
              "#7201a8"
             ],
             [
              0.3333333333333333,
              "#9c179e"
             ],
             [
              0.4444444444444444,
              "#bd3786"
             ],
             [
              0.5555555555555556,
              "#d8576b"
             ],
             [
              0.6666666666666666,
              "#ed7953"
             ],
             [
              0.7777777777777778,
              "#fb9f3a"
             ],
             [
              0.8888888888888888,
              "#fdca26"
             ],
             [
              1,
              "#f0f921"
             ]
            ],
            "type": "heatmap"
           }
          ],
          "heatmapgl": [
           {
            "colorbar": {
             "outlinewidth": 0,
             "ticks": ""
            },
            "colorscale": [
             [
              0,
              "#0d0887"
             ],
             [
              0.1111111111111111,
              "#46039f"
             ],
             [
              0.2222222222222222,
              "#7201a8"
             ],
             [
              0.3333333333333333,
              "#9c179e"
             ],
             [
              0.4444444444444444,
              "#bd3786"
             ],
             [
              0.5555555555555556,
              "#d8576b"
             ],
             [
              0.6666666666666666,
              "#ed7953"
             ],
             [
              0.7777777777777778,
              "#fb9f3a"
             ],
             [
              0.8888888888888888,
              "#fdca26"
             ],
             [
              1,
              "#f0f921"
             ]
            ],
            "type": "heatmapgl"
           }
          ],
          "histogram": [
           {
            "marker": {
             "pattern": {
              "fillmode": "overlay",
              "size": 10,
              "solidity": 0.2
             }
            },
            "type": "histogram"
           }
          ],
          "histogram2d": [
           {
            "colorbar": {
             "outlinewidth": 0,
             "ticks": ""
            },
            "colorscale": [
             [
              0,
              "#0d0887"
             ],
             [
              0.1111111111111111,
              "#46039f"
             ],
             [
              0.2222222222222222,
              "#7201a8"
             ],
             [
              0.3333333333333333,
              "#9c179e"
             ],
             [
              0.4444444444444444,
              "#bd3786"
             ],
             [
              0.5555555555555556,
              "#d8576b"
             ],
             [
              0.6666666666666666,
              "#ed7953"
             ],
             [
              0.7777777777777778,
              "#fb9f3a"
             ],
             [
              0.8888888888888888,
              "#fdca26"
             ],
             [
              1,
              "#f0f921"
             ]
            ],
            "type": "histogram2d"
           }
          ],
          "histogram2dcontour": [
           {
            "colorbar": {
             "outlinewidth": 0,
             "ticks": ""
            },
            "colorscale": [
             [
              0,
              "#0d0887"
             ],
             [
              0.1111111111111111,
              "#46039f"
             ],
             [
              0.2222222222222222,
              "#7201a8"
             ],
             [
              0.3333333333333333,
              "#9c179e"
             ],
             [
              0.4444444444444444,
              "#bd3786"
             ],
             [
              0.5555555555555556,
              "#d8576b"
             ],
             [
              0.6666666666666666,
              "#ed7953"
             ],
             [
              0.7777777777777778,
              "#fb9f3a"
             ],
             [
              0.8888888888888888,
              "#fdca26"
             ],
             [
              1,
              "#f0f921"
             ]
            ],
            "type": "histogram2dcontour"
           }
          ],
          "mesh3d": [
           {
            "colorbar": {
             "outlinewidth": 0,
             "ticks": ""
            },
            "type": "mesh3d"
           }
          ],
          "parcoords": [
           {
            "line": {
             "colorbar": {
              "outlinewidth": 0,
              "ticks": ""
             }
            },
            "type": "parcoords"
           }
          ],
          "pie": [
           {
            "automargin": true,
            "type": "pie"
           }
          ],
          "scatter": [
           {
            "fillpattern": {
             "fillmode": "overlay",
             "size": 10,
             "solidity": 0.2
            },
            "type": "scatter"
           }
          ],
          "scatter3d": [
           {
            "line": {
             "colorbar": {
              "outlinewidth": 0,
              "ticks": ""
             }
            },
            "marker": {
             "colorbar": {
              "outlinewidth": 0,
              "ticks": ""
             }
            },
            "type": "scatter3d"
           }
          ],
          "scattercarpet": [
           {
            "marker": {
             "colorbar": {
              "outlinewidth": 0,
              "ticks": ""
             }
            },
            "type": "scattercarpet"
           }
          ],
          "scattergeo": [
           {
            "marker": {
             "colorbar": {
              "outlinewidth": 0,
              "ticks": ""
             }
            },
            "type": "scattergeo"
           }
          ],
          "scattergl": [
           {
            "marker": {
             "colorbar": {
              "outlinewidth": 0,
              "ticks": ""
             }
            },
            "type": "scattergl"
           }
          ],
          "scattermapbox": [
           {
            "marker": {
             "colorbar": {
              "outlinewidth": 0,
              "ticks": ""
             }
            },
            "type": "scattermapbox"
           }
          ],
          "scatterpolar": [
           {
            "marker": {
             "colorbar": {
              "outlinewidth": 0,
              "ticks": ""
             }
            },
            "type": "scatterpolar"
           }
          ],
          "scatterpolargl": [
           {
            "marker": {
             "colorbar": {
              "outlinewidth": 0,
              "ticks": ""
             }
            },
            "type": "scatterpolargl"
           }
          ],
          "scatterternary": [
           {
            "marker": {
             "colorbar": {
              "outlinewidth": 0,
              "ticks": ""
             }
            },
            "type": "scatterternary"
           }
          ],
          "surface": [
           {
            "colorbar": {
             "outlinewidth": 0,
             "ticks": ""
            },
            "colorscale": [
             [
              0,
              "#0d0887"
             ],
             [
              0.1111111111111111,
              "#46039f"
             ],
             [
              0.2222222222222222,
              "#7201a8"
             ],
             [
              0.3333333333333333,
              "#9c179e"
             ],
             [
              0.4444444444444444,
              "#bd3786"
             ],
             [
              0.5555555555555556,
              "#d8576b"
             ],
             [
              0.6666666666666666,
              "#ed7953"
             ],
             [
              0.7777777777777778,
              "#fb9f3a"
             ],
             [
              0.8888888888888888,
              "#fdca26"
             ],
             [
              1,
              "#f0f921"
             ]
            ],
            "type": "surface"
           }
          ],
          "table": [
           {
            "cells": {
             "fill": {
              "color": "#EBF0F8"
             },
             "line": {
              "color": "white"
             }
            },
            "header": {
             "fill": {
              "color": "#C8D4E3"
             },
             "line": {
              "color": "white"
             }
            },
            "type": "table"
           }
          ]
         },
         "layout": {
          "annotationdefaults": {
           "arrowcolor": "#2a3f5f",
           "arrowhead": 0,
           "arrowwidth": 1
          },
          "autotypenumbers": "strict",
          "coloraxis": {
           "colorbar": {
            "outlinewidth": 0,
            "ticks": ""
           }
          },
          "colorscale": {
           "diverging": [
            [
             0,
             "#8e0152"
            ],
            [
             0.1,
             "#c51b7d"
            ],
            [
             0.2,
             "#de77ae"
            ],
            [
             0.3,
             "#f1b6da"
            ],
            [
             0.4,
             "#fde0ef"
            ],
            [
             0.5,
             "#f7f7f7"
            ],
            [
             0.6,
             "#e6f5d0"
            ],
            [
             0.7,
             "#b8e186"
            ],
            [
             0.8,
             "#7fbc41"
            ],
            [
             0.9,
             "#4d9221"
            ],
            [
             1,
             "#276419"
            ]
           ],
           "sequential": [
            [
             0,
             "#0d0887"
            ],
            [
             0.1111111111111111,
             "#46039f"
            ],
            [
             0.2222222222222222,
             "#7201a8"
            ],
            [
             0.3333333333333333,
             "#9c179e"
            ],
            [
             0.4444444444444444,
             "#bd3786"
            ],
            [
             0.5555555555555556,
             "#d8576b"
            ],
            [
             0.6666666666666666,
             "#ed7953"
            ],
            [
             0.7777777777777778,
             "#fb9f3a"
            ],
            [
             0.8888888888888888,
             "#fdca26"
            ],
            [
             1,
             "#f0f921"
            ]
           ],
           "sequentialminus": [
            [
             0,
             "#0d0887"
            ],
            [
             0.1111111111111111,
             "#46039f"
            ],
            [
             0.2222222222222222,
             "#7201a8"
            ],
            [
             0.3333333333333333,
             "#9c179e"
            ],
            [
             0.4444444444444444,
             "#bd3786"
            ],
            [
             0.5555555555555556,
             "#d8576b"
            ],
            [
             0.6666666666666666,
             "#ed7953"
            ],
            [
             0.7777777777777778,
             "#fb9f3a"
            ],
            [
             0.8888888888888888,
             "#fdca26"
            ],
            [
             1,
             "#f0f921"
            ]
           ]
          },
          "colorway": [
           "#636efa",
           "#EF553B",
           "#00cc96",
           "#ab63fa",
           "#FFA15A",
           "#19d3f3",
           "#FF6692",
           "#B6E880",
           "#FF97FF",
           "#FECB52"
          ],
          "font": {
           "color": "#2a3f5f"
          },
          "geo": {
           "bgcolor": "white",
           "lakecolor": "white",
           "landcolor": "#E5ECF6",
           "showlakes": true,
           "showland": true,
           "subunitcolor": "white"
          },
          "hoverlabel": {
           "align": "left"
          },
          "hovermode": "closest",
          "mapbox": {
           "style": "light"
          },
          "paper_bgcolor": "white",
          "plot_bgcolor": "#E5ECF6",
          "polar": {
           "angularaxis": {
            "gridcolor": "white",
            "linecolor": "white",
            "ticks": ""
           },
           "bgcolor": "#E5ECF6",
           "radialaxis": {
            "gridcolor": "white",
            "linecolor": "white",
            "ticks": ""
           }
          },
          "scene": {
           "xaxis": {
            "backgroundcolor": "#E5ECF6",
            "gridcolor": "white",
            "gridwidth": 2,
            "linecolor": "white",
            "showbackground": true,
            "ticks": "",
            "zerolinecolor": "white"
           },
           "yaxis": {
            "backgroundcolor": "#E5ECF6",
            "gridcolor": "white",
            "gridwidth": 2,
            "linecolor": "white",
            "showbackground": true,
            "ticks": "",
            "zerolinecolor": "white"
           },
           "zaxis": {
            "backgroundcolor": "#E5ECF6",
            "gridcolor": "white",
            "gridwidth": 2,
            "linecolor": "white",
            "showbackground": true,
            "ticks": "",
            "zerolinecolor": "white"
           }
          },
          "shapedefaults": {
           "line": {
            "color": "#2a3f5f"
           }
          },
          "ternary": {
           "aaxis": {
            "gridcolor": "white",
            "linecolor": "white",
            "ticks": ""
           },
           "baxis": {
            "gridcolor": "white",
            "linecolor": "white",
            "ticks": ""
           },
           "bgcolor": "#E5ECF6",
           "caxis": {
            "gridcolor": "white",
            "linecolor": "white",
            "ticks": ""
           }
          },
          "title": {
           "x": 0.05
          },
          "xaxis": {
           "automargin": true,
           "gridcolor": "white",
           "linecolor": "white",
           "ticks": "",
           "title": {
            "standoff": 15
           },
           "zerolinecolor": "white",
           "zerolinewidth": 2
          },
          "yaxis": {
           "automargin": true,
           "gridcolor": "white",
           "linecolor": "white",
           "ticks": "",
           "title": {
            "standoff": 15
           },
           "zerolinecolor": "white",
           "zerolinewidth": 2
          }
         }
        },
        "title": {
         "font": {
          "size": 12
         }
        },
        "xaxis": {
         "showgrid": false,
         "showticklabels": false,
         "zeroline": false
        },
        "yaxis": {
         "showgrid": false,
         "showticklabels": false,
         "zeroline": false
        }
       }
      }
     },
     "metadata": {},
     "output_type": "display_data"
    }
   ],
   "source": [
    "def cala_operacja(nazwa_pliku):\n",
    "    num_vars, clauses = read_dimacs_cnf(nazwa_pliku)\n",
    "    print(f\"Number of variables: {num_vars} {clauses}\") # liczba zmiennych i klauzul\n",
    "    model, G = generate_node_embeddings(clauses)\n",
    "    print(model.wv.most_similar('1')) # najbliższe wierzchołki\n",
    "    G2, pos = utworzSkierowanyGraf(G, model)\n",
    "    print(G2.edges) # krawędzie skierowane\n",
    "    interactive_directed_graph(G2, pos)\n",
    "    return num_vars, clauses\n",
    "\n",
    "nazwa = \"DIMACS_files/turbo_easy/example_2.cnf\"\n",
    "num_vars, clauses = cala_operacja(nazwa)\n"
   ]
  }
 ],
 "metadata": {
  "kernelspec": {
   "display_name": "Python 3",
   "language": "python",
   "name": "python3"
  },
  "language_info": {
   "codemirror_mode": {
    "name": "ipython",
    "version": 3
   },
   "file_extension": ".py",
   "mimetype": "text/x-python",
   "name": "python",
   "nbconvert_exporter": "python",
   "pygments_lexer": "ipython3",
   "version": "3.10.11"
  }
 },
 "nbformat": 4,
 "nbformat_minor": 2
}
