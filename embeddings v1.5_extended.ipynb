{
 "cells": [
  {
   "cell_type": "code",
   "execution_count": 1,
   "metadata": {},
   "outputs": [
    {
     "name": "stderr",
     "output_type": "stream",
     "text": [
      "C:\\Users\\user\\AppData\\Local\\Packages\\PythonSoftwareFoundation.Python.3.10_qbz5n2kfra8p0\\LocalCache\\local-packages\\Python310\\site-packages\\tqdm\\auto.py:21: TqdmWarning: IProgress not found. Please update jupyter and ipywidgets. See https://ipywidgets.readthedocs.io/en/stable/user_install.html\n",
      "  from .autonotebook import tqdm as notebook_tqdm\n"
     ]
    }
   ],
   "source": [
    "import networkx as nx\n",
    "import matplotlib.pyplot as plt\n",
    "import argparse\n",
    "from node2vec import Node2Vec\n",
    "import itertools\n",
    "import plotly.graph_objs as go"
   ]
  },
  {
   "cell_type": "code",
   "execution_count": 2,
   "metadata": {},
   "outputs": [],
   "source": [
    "def read_dimacs_cnf(filename):\n",
    "    clauses = []\n",
    "    with open(filename, 'r') as file:\n",
    "        for line in file:\n",
    "            if line.startswith(\"c\"):\n",
    "                continue\n",
    "            if line.startswith(\"p cnf\"):\n",
    "                num_vars, num_clauses = map(int, line.strip().split()[2:])\n",
    "            else:\n",
    "                clause = list(map(int, line.strip().split()[:-1]))\n",
    "                clauses.append(clause)\n",
    "    return num_vars, clauses\n",
    "\n",
    "def visualize_graph(clauses):\n",
    "    G = nx.Graph()\n",
    "    for clause in clauses:\n",
    "        for literal in clause:\n",
    "            G.add_node(abs(literal))  # Dodanie węzłów dla zmiennych\n",
    "        for i in range(len(clause)):\n",
    "            for j in range(i+1, len(clause)):\n",
    "                G.add_edge(abs(clause[i]), abs(clause[j]))  # Dodanie krawędzi między zmiennymi w tej samej klauzuli\n",
    "    pos = nx.spring_layout(G)  # Ustalenie układu wizualizacji\n",
    "    nx.draw(G, pos, with_labels=True, node_size=500)\n",
    "    plt.show()\n",
    "\n",
    "def generate_node_embeddings(clauses):\n",
    "    G = nx.Graph()\n",
    "    for clause in clauses:\n",
    "        for literal in clause:\n",
    "            G.add_node(abs(literal))\n",
    "        for i in range(len(clause)):\n",
    "            for j in range(i+1, len(clause)):\n",
    "                G.add_edge(abs(clause[i]), abs(clause[j]))\n",
    "\n",
    "    node2vec = Node2Vec(G, dimensions=64, walk_length=30, num_walks=200, workers=4)\n",
    "    model = node2vec.fit(window=10, min_count=1, batch_words=4)\n",
    "    return model, G"
   ]
  },
  {
   "cell_type": "code",
   "execution_count": 12,
   "metadata": {},
   "outputs": [],
   "source": [
    "def utworzSkierowanyGraf(G1, model_2):\n",
    "    G2 = nx.DiGraph()\n",
    "    for i in G1.nodes:\n",
    "        node, waga = model_2.wv.most_similar(f'{i}')[0]\n",
    "        # print(i, int(node), round(waga,2))\n",
    "        G2.add_edge(i, int(node))  # Dodanie krawędzi z wagą 5\n",
    "    # G2.add_edge(2, 3, weight=3)  # Dodanie krawędzi z wagą 3\n",
    "    # G2.add_edge(3, 4, weight=7)  # Dodanie krawędzi z wagą 7\n",
    "\n",
    "    # Rysowanie grafu\n",
    "    # pos = nx.shell_layout(G2)\n",
    "    pos = nx.spring_layout(G2, scale=10)\n",
    "    # pos = nx.kamada_kawai_layout(G2)\n",
    "    nx.draw(G2, pos, with_labels=True, node_size=150, arrowsize=20)\n",
    "    # Dodanie etykiet krawędzi\n",
    "    labels = nx.get_edge_attributes(G2, 'weight')\n",
    "    nx.draw_networkx_edge_labels(G2, pos, edge_labels=labels)\n",
    "    plt.show()\n",
    "    return G2, pos"
   ]
  },
  {
   "cell_type": "code",
   "execution_count": 6,
   "metadata": {},
   "outputs": [
    {
     "name": "stderr",
     "output_type": "stream",
     "text": [
      "Computing transition probabilities:   0%|          | 0/100 [00:00<?, ?it/s]"
     ]
    },
    {
     "name": "stderr",
     "output_type": "stream",
     "text": [
      "Computing transition probabilities: 100%|██████████| 100/100 [00:00<00:00, 1030.92it/s]\n"
     ]
    },
    {
     "ename": "KeyboardInterrupt",
     "evalue": "",
     "output_type": "error",
     "traceback": [
      "\u001b[1;31m---------------------------------------------------------------------------\u001b[0m",
      "\u001b[1;31mKeyboardInterrupt\u001b[0m                         Traceback (most recent call last)",
      "Cell \u001b[1;32mIn[6], line 2\u001b[0m\n\u001b[0;32m      1\u001b[0m \u001b[38;5;66;03m# nazwa = \"DIMACS_files/easy/sat/Analiza1-itox_vc1033.cnf\"\u001b[39;00m\n\u001b[1;32m----> 2\u001b[0m \u001b[43mcala_operacja\u001b[49m\u001b[43m(\u001b[49m\u001b[43mnazwa\u001b[49m\u001b[43m)\u001b[49m\n",
      "Cell \u001b[1;32mIn[4], line 3\u001b[0m, in \u001b[0;36mcala_operacja\u001b[1;34m(nazwa_pliku)\u001b[0m\n\u001b[0;32m      1\u001b[0m \u001b[38;5;28;01mdef\u001b[39;00m \u001b[38;5;21mcala_operacja\u001b[39m(nazwa_pliku):\n\u001b[0;32m      2\u001b[0m     num_vars, clauses \u001b[38;5;241m=\u001b[39m read_dimacs_cnf(nazwa_pliku)\n\u001b[1;32m----> 3\u001b[0m     model, G \u001b[38;5;241m=\u001b[39m \u001b[43mgenerate_node_embeddings\u001b[49m\u001b[43m(\u001b[49m\u001b[43mclauses\u001b[49m\u001b[43m)\u001b[49m\n\u001b[0;32m      4\u001b[0m     utworzSkierowanyGraf(G, model)\n",
      "Cell \u001b[1;32mIn[2], line 35\u001b[0m, in \u001b[0;36mgenerate_node_embeddings\u001b[1;34m(clauses)\u001b[0m\n\u001b[0;32m     32\u001b[0m         \u001b[38;5;28;01mfor\u001b[39;00m j \u001b[38;5;129;01min\u001b[39;00m \u001b[38;5;28mrange\u001b[39m(i\u001b[38;5;241m+\u001b[39m\u001b[38;5;241m1\u001b[39m, \u001b[38;5;28mlen\u001b[39m(clause)):\n\u001b[0;32m     33\u001b[0m             G\u001b[38;5;241m.\u001b[39madd_edge(\u001b[38;5;28mabs\u001b[39m(clause[i]), \u001b[38;5;28mabs\u001b[39m(clause[j]))\n\u001b[1;32m---> 35\u001b[0m node2vec \u001b[38;5;241m=\u001b[39m \u001b[43mNode2Vec\u001b[49m\u001b[43m(\u001b[49m\u001b[43mG\u001b[49m\u001b[43m,\u001b[49m\u001b[43m \u001b[49m\u001b[43mdimensions\u001b[49m\u001b[38;5;241;43m=\u001b[39;49m\u001b[38;5;241;43m64\u001b[39;49m\u001b[43m,\u001b[49m\u001b[43m \u001b[49m\u001b[43mwalk_length\u001b[49m\u001b[38;5;241;43m=\u001b[39;49m\u001b[38;5;241;43m30\u001b[39;49m\u001b[43m,\u001b[49m\u001b[43m \u001b[49m\u001b[43mnum_walks\u001b[49m\u001b[38;5;241;43m=\u001b[39;49m\u001b[38;5;241;43m200\u001b[39;49m\u001b[43m,\u001b[49m\u001b[43m \u001b[49m\u001b[43mworkers\u001b[49m\u001b[38;5;241;43m=\u001b[39;49m\u001b[38;5;241;43m4\u001b[39;49m\u001b[43m)\u001b[49m\n\u001b[0;32m     36\u001b[0m model \u001b[38;5;241m=\u001b[39m node2vec\u001b[38;5;241m.\u001b[39mfit(window\u001b[38;5;241m=\u001b[39m\u001b[38;5;241m10\u001b[39m, min_count\u001b[38;5;241m=\u001b[39m\u001b[38;5;241m1\u001b[39m, batch_words\u001b[38;5;241m=\u001b[39m\u001b[38;5;241m4\u001b[39m)\n\u001b[0;32m     37\u001b[0m \u001b[38;5;28;01mreturn\u001b[39;00m model, G\n",
      "File \u001b[1;32m~\\AppData\\Local\\Packages\\PythonSoftwareFoundation.Python.3.10_qbz5n2kfra8p0\\LocalCache\\local-packages\\Python310\\site-packages\\node2vec\\node2vec.py:74\u001b[0m, in \u001b[0;36mNode2Vec.__init__\u001b[1;34m(self, graph, dimensions, walk_length, num_walks, p, q, weight_key, workers, sampling_strategy, quiet, temp_folder, seed)\u001b[0m\n\u001b[0;32m     71\u001b[0m     np\u001b[38;5;241m.\u001b[39mrandom\u001b[38;5;241m.\u001b[39mseed(seed)\n\u001b[0;32m     73\u001b[0m \u001b[38;5;28mself\u001b[39m\u001b[38;5;241m.\u001b[39m_precompute_probabilities()\n\u001b[1;32m---> 74\u001b[0m \u001b[38;5;28mself\u001b[39m\u001b[38;5;241m.\u001b[39mwalks \u001b[38;5;241m=\u001b[39m \u001b[38;5;28;43mself\u001b[39;49m\u001b[38;5;241;43m.\u001b[39;49m\u001b[43m_generate_walks\u001b[49m\u001b[43m(\u001b[49m\u001b[43m)\u001b[49m\n",
      "File \u001b[1;32m~\\AppData\\Local\\Packages\\PythonSoftwareFoundation.Python.3.10_qbz5n2kfra8p0\\LocalCache\\local-packages\\Python310\\site-packages\\node2vec\\node2vec.py:159\u001b[0m, in \u001b[0;36mNode2Vec._generate_walks\u001b[1;34m(self)\u001b[0m\n\u001b[0;32m    156\u001b[0m \u001b[38;5;66;03m# Split num_walks for each worker\u001b[39;00m\n\u001b[0;32m    157\u001b[0m num_walks_lists \u001b[38;5;241m=\u001b[39m np\u001b[38;5;241m.\u001b[39marray_split(\u001b[38;5;28mrange\u001b[39m(\u001b[38;5;28mself\u001b[39m\u001b[38;5;241m.\u001b[39mnum_walks), \u001b[38;5;28mself\u001b[39m\u001b[38;5;241m.\u001b[39mworkers)\n\u001b[1;32m--> 159\u001b[0m walk_results \u001b[38;5;241m=\u001b[39m \u001b[43mParallel\u001b[49m\u001b[43m(\u001b[49m\u001b[43mn_jobs\u001b[49m\u001b[38;5;241;43m=\u001b[39;49m\u001b[38;5;28;43mself\u001b[39;49m\u001b[38;5;241;43m.\u001b[39;49m\u001b[43mworkers\u001b[49m\u001b[43m,\u001b[49m\u001b[43m \u001b[49m\u001b[43mtemp_folder\u001b[49m\u001b[38;5;241;43m=\u001b[39;49m\u001b[38;5;28;43mself\u001b[39;49m\u001b[38;5;241;43m.\u001b[39;49m\u001b[43mtemp_folder\u001b[49m\u001b[43m,\u001b[49m\u001b[43m \u001b[49m\u001b[43mrequire\u001b[49m\u001b[38;5;241;43m=\u001b[39;49m\u001b[38;5;28;43mself\u001b[39;49m\u001b[38;5;241;43m.\u001b[39;49m\u001b[43mrequire\u001b[49m\u001b[43m)\u001b[49m\u001b[43m(\u001b[49m\n\u001b[0;32m    160\u001b[0m \u001b[43m    \u001b[49m\u001b[43mdelayed\u001b[49m\u001b[43m(\u001b[49m\u001b[43mparallel_generate_walks\u001b[49m\u001b[43m)\u001b[49m\u001b[43m(\u001b[49m\u001b[38;5;28;43mself\u001b[39;49m\u001b[38;5;241;43m.\u001b[39;49m\u001b[43md_graph\u001b[49m\u001b[43m,\u001b[49m\n\u001b[0;32m    161\u001b[0m \u001b[43m                                     \u001b[49m\u001b[38;5;28;43mself\u001b[39;49m\u001b[38;5;241;43m.\u001b[39;49m\u001b[43mwalk_length\u001b[49m\u001b[43m,\u001b[49m\n\u001b[0;32m    162\u001b[0m \u001b[43m                                     \u001b[49m\u001b[38;5;28;43mlen\u001b[39;49m\u001b[43m(\u001b[49m\u001b[43mnum_walks\u001b[49m\u001b[43m)\u001b[49m\u001b[43m,\u001b[49m\n\u001b[0;32m    163\u001b[0m \u001b[43m                                     \u001b[49m\u001b[43midx\u001b[49m\u001b[43m,\u001b[49m\n\u001b[0;32m    164\u001b[0m \u001b[43m                                     \u001b[49m\u001b[38;5;28;43mself\u001b[39;49m\u001b[38;5;241;43m.\u001b[39;49m\u001b[43msampling_strategy\u001b[49m\u001b[43m,\u001b[49m\n\u001b[0;32m    165\u001b[0m \u001b[43m                                     \u001b[49m\u001b[38;5;28;43mself\u001b[39;49m\u001b[38;5;241;43m.\u001b[39;49m\u001b[43mNUM_WALKS_KEY\u001b[49m\u001b[43m,\u001b[49m\n\u001b[0;32m    166\u001b[0m \u001b[43m                                     \u001b[49m\u001b[38;5;28;43mself\u001b[39;49m\u001b[38;5;241;43m.\u001b[39;49m\u001b[43mWALK_LENGTH_KEY\u001b[49m\u001b[43m,\u001b[49m\n\u001b[0;32m    167\u001b[0m \u001b[43m                                     \u001b[49m\u001b[38;5;28;43mself\u001b[39;49m\u001b[38;5;241;43m.\u001b[39;49m\u001b[43mNEIGHBORS_KEY\u001b[49m\u001b[43m,\u001b[49m\n\u001b[0;32m    168\u001b[0m \u001b[43m                                     \u001b[49m\u001b[38;5;28;43mself\u001b[39;49m\u001b[38;5;241;43m.\u001b[39;49m\u001b[43mPROBABILITIES_KEY\u001b[49m\u001b[43m,\u001b[49m\n\u001b[0;32m    169\u001b[0m \u001b[43m                                     \u001b[49m\u001b[38;5;28;43mself\u001b[39;49m\u001b[38;5;241;43m.\u001b[39;49m\u001b[43mFIRST_TRAVEL_KEY\u001b[49m\u001b[43m,\u001b[49m\n\u001b[0;32m    170\u001b[0m \u001b[43m                                     \u001b[49m\u001b[38;5;28;43mself\u001b[39;49m\u001b[38;5;241;43m.\u001b[39;49m\u001b[43mquiet\u001b[49m\u001b[43m)\u001b[49m\u001b[43m \u001b[49m\u001b[38;5;28;43;01mfor\u001b[39;49;00m\n\u001b[0;32m    171\u001b[0m \u001b[43m    \u001b[49m\u001b[43midx\u001b[49m\u001b[43m,\u001b[49m\u001b[43m \u001b[49m\u001b[43mnum_walks\u001b[49m\n\u001b[0;32m    172\u001b[0m \u001b[43m    \u001b[49m\u001b[38;5;129;43;01min\u001b[39;49;00m\u001b[43m \u001b[49m\u001b[38;5;28;43menumerate\u001b[39;49m\u001b[43m(\u001b[49m\u001b[43mnum_walks_lists\u001b[49m\u001b[43m,\u001b[49m\u001b[43m \u001b[49m\u001b[38;5;241;43m1\u001b[39;49m\u001b[43m)\u001b[49m\u001b[43m)\u001b[49m\n\u001b[0;32m    174\u001b[0m walks \u001b[38;5;241m=\u001b[39m flatten(walk_results)\n\u001b[0;32m    176\u001b[0m \u001b[38;5;28;01mreturn\u001b[39;00m walks\n",
      "File \u001b[1;32m~\\AppData\\Local\\Packages\\PythonSoftwareFoundation.Python.3.10_qbz5n2kfra8p0\\LocalCache\\local-packages\\Python310\\site-packages\\joblib\\parallel.py:1098\u001b[0m, in \u001b[0;36mParallel.__call__\u001b[1;34m(self, iterable)\u001b[0m\n\u001b[0;32m   1095\u001b[0m     \u001b[38;5;28mself\u001b[39m\u001b[38;5;241m.\u001b[39m_iterating \u001b[38;5;241m=\u001b[39m \u001b[38;5;28;01mFalse\u001b[39;00m\n\u001b[0;32m   1097\u001b[0m \u001b[38;5;28;01mwith\u001b[39;00m \u001b[38;5;28mself\u001b[39m\u001b[38;5;241m.\u001b[39m_backend\u001b[38;5;241m.\u001b[39mretrieval_context():\n\u001b[1;32m-> 1098\u001b[0m     \u001b[38;5;28;43mself\u001b[39;49m\u001b[38;5;241;43m.\u001b[39;49m\u001b[43mretrieve\u001b[49m\u001b[43m(\u001b[49m\u001b[43m)\u001b[49m\n\u001b[0;32m   1099\u001b[0m \u001b[38;5;66;03m# Make sure that we get a last message telling us we are done\u001b[39;00m\n\u001b[0;32m   1100\u001b[0m elapsed_time \u001b[38;5;241m=\u001b[39m time\u001b[38;5;241m.\u001b[39mtime() \u001b[38;5;241m-\u001b[39m \u001b[38;5;28mself\u001b[39m\u001b[38;5;241m.\u001b[39m_start_time\n",
      "File \u001b[1;32m~\\AppData\\Local\\Packages\\PythonSoftwareFoundation.Python.3.10_qbz5n2kfra8p0\\LocalCache\\local-packages\\Python310\\site-packages\\joblib\\parallel.py:975\u001b[0m, in \u001b[0;36mParallel.retrieve\u001b[1;34m(self)\u001b[0m\n\u001b[0;32m    973\u001b[0m \u001b[38;5;28;01mtry\u001b[39;00m:\n\u001b[0;32m    974\u001b[0m     \u001b[38;5;28;01mif\u001b[39;00m \u001b[38;5;28mgetattr\u001b[39m(\u001b[38;5;28mself\u001b[39m\u001b[38;5;241m.\u001b[39m_backend, \u001b[38;5;124m'\u001b[39m\u001b[38;5;124msupports_timeout\u001b[39m\u001b[38;5;124m'\u001b[39m, \u001b[38;5;28;01mFalse\u001b[39;00m):\n\u001b[1;32m--> 975\u001b[0m         \u001b[38;5;28mself\u001b[39m\u001b[38;5;241m.\u001b[39m_output\u001b[38;5;241m.\u001b[39mextend(\u001b[43mjob\u001b[49m\u001b[38;5;241;43m.\u001b[39;49m\u001b[43mget\u001b[49m\u001b[43m(\u001b[49m\u001b[43mtimeout\u001b[49m\u001b[38;5;241;43m=\u001b[39;49m\u001b[38;5;28;43mself\u001b[39;49m\u001b[38;5;241;43m.\u001b[39;49m\u001b[43mtimeout\u001b[49m\u001b[43m)\u001b[49m)\n\u001b[0;32m    976\u001b[0m     \u001b[38;5;28;01melse\u001b[39;00m:\n\u001b[0;32m    977\u001b[0m         \u001b[38;5;28mself\u001b[39m\u001b[38;5;241m.\u001b[39m_output\u001b[38;5;241m.\u001b[39mextend(job\u001b[38;5;241m.\u001b[39mget())\n",
      "File \u001b[1;32m~\\AppData\\Local\\Packages\\PythonSoftwareFoundation.Python.3.10_qbz5n2kfra8p0\\LocalCache\\local-packages\\Python310\\site-packages\\joblib\\_parallel_backends.py:567\u001b[0m, in \u001b[0;36mLokyBackend.wrap_future_result\u001b[1;34m(future, timeout)\u001b[0m\n\u001b[0;32m    564\u001b[0m \u001b[38;5;250m\u001b[39m\u001b[38;5;124;03m\"\"\"Wrapper for Future.result to implement the same behaviour as\u001b[39;00m\n\u001b[0;32m    565\u001b[0m \u001b[38;5;124;03mAsyncResults.get from multiprocessing.\"\"\"\u001b[39;00m\n\u001b[0;32m    566\u001b[0m \u001b[38;5;28;01mtry\u001b[39;00m:\n\u001b[1;32m--> 567\u001b[0m     \u001b[38;5;28;01mreturn\u001b[39;00m \u001b[43mfuture\u001b[49m\u001b[38;5;241;43m.\u001b[39;49m\u001b[43mresult\u001b[49m\u001b[43m(\u001b[49m\u001b[43mtimeout\u001b[49m\u001b[38;5;241;43m=\u001b[39;49m\u001b[43mtimeout\u001b[49m\u001b[43m)\u001b[49m\n\u001b[0;32m    568\u001b[0m \u001b[38;5;28;01mexcept\u001b[39;00m CfTimeoutError \u001b[38;5;28;01mas\u001b[39;00m e:\n\u001b[0;32m    569\u001b[0m     \u001b[38;5;28;01mraise\u001b[39;00m \u001b[38;5;167;01mTimeoutError\u001b[39;00m \u001b[38;5;28;01mfrom\u001b[39;00m \u001b[38;5;21;01me\u001b[39;00m\n",
      "File \u001b[1;32mC:\\Program Files\\WindowsApps\\PythonSoftwareFoundation.Python.3.10_3.10.3056.0_x64__qbz5n2kfra8p0\\lib\\concurrent\\futures\\_base.py:453\u001b[0m, in \u001b[0;36mFuture.result\u001b[1;34m(self, timeout)\u001b[0m\n\u001b[0;32m    450\u001b[0m \u001b[38;5;28;01melif\u001b[39;00m \u001b[38;5;28mself\u001b[39m\u001b[38;5;241m.\u001b[39m_state \u001b[38;5;241m==\u001b[39m FINISHED:\n\u001b[0;32m    451\u001b[0m     \u001b[38;5;28;01mreturn\u001b[39;00m \u001b[38;5;28mself\u001b[39m\u001b[38;5;241m.\u001b[39m__get_result()\n\u001b[1;32m--> 453\u001b[0m \u001b[38;5;28;43mself\u001b[39;49m\u001b[38;5;241;43m.\u001b[39;49m\u001b[43m_condition\u001b[49m\u001b[38;5;241;43m.\u001b[39;49m\u001b[43mwait\u001b[49m\u001b[43m(\u001b[49m\u001b[43mtimeout\u001b[49m\u001b[43m)\u001b[49m\n\u001b[0;32m    455\u001b[0m \u001b[38;5;28;01mif\u001b[39;00m \u001b[38;5;28mself\u001b[39m\u001b[38;5;241m.\u001b[39m_state \u001b[38;5;129;01min\u001b[39;00m [CANCELLED, CANCELLED_AND_NOTIFIED]:\n\u001b[0;32m    456\u001b[0m     \u001b[38;5;28;01mraise\u001b[39;00m CancelledError()\n",
      "File \u001b[1;32mC:\\Program Files\\WindowsApps\\PythonSoftwareFoundation.Python.3.10_3.10.3056.0_x64__qbz5n2kfra8p0\\lib\\threading.py:320\u001b[0m, in \u001b[0;36mCondition.wait\u001b[1;34m(self, timeout)\u001b[0m\n\u001b[0;32m    318\u001b[0m \u001b[38;5;28;01mtry\u001b[39;00m:    \u001b[38;5;66;03m# restore state no matter what (e.g., KeyboardInterrupt)\u001b[39;00m\n\u001b[0;32m    319\u001b[0m     \u001b[38;5;28;01mif\u001b[39;00m timeout \u001b[38;5;129;01mis\u001b[39;00m \u001b[38;5;28;01mNone\u001b[39;00m:\n\u001b[1;32m--> 320\u001b[0m         \u001b[43mwaiter\u001b[49m\u001b[38;5;241;43m.\u001b[39;49m\u001b[43macquire\u001b[49m\u001b[43m(\u001b[49m\u001b[43m)\u001b[49m\n\u001b[0;32m    321\u001b[0m         gotit \u001b[38;5;241m=\u001b[39m \u001b[38;5;28;01mTrue\u001b[39;00m\n\u001b[0;32m    322\u001b[0m     \u001b[38;5;28;01melse\u001b[39;00m:\n",
      "\u001b[1;31mKeyboardInterrupt\u001b[0m: "
     ]
    }
   ],
   "source": [
    "# nazwa = \"DIMACS_files/easy/sat/Analiza1-itox_vc1033.cnf\"\n",
    "# cala_operacja(nazwa)"
   ]
  },
  {
   "cell_type": "code",
   "execution_count": null,
   "metadata": {},
   "outputs": [],
   "source": [
    "# nazwa = \"DIMACS_files/medium/unsat/Analiza1-AProVE07-08.cnf\"\n",
    "# cala_operacja(nazwa)"
   ]
  },
  {
   "cell_type": "code",
   "execution_count": 10,
   "metadata": {},
   "outputs": [],
   "source": [
    "# def interactive_directed_graph(G, pos):\n",
    "#     edge_trace = go.Scatter(\n",
    "#         x=[],\n",
    "#         y=[],\n",
    "#         line=dict(width=0.5, color='#888'),\n",
    "#         hoverinfo='none',\n",
    "#         mode='lines')\n",
    "\n",
    "#     for edge in G.edges():\n",
    "#         x0, y0 = pos[edge[0]]\n",
    "#         x1, y1 = pos[edge[1]]\n",
    "#         edge_trace['x'] += (x0, x1, None)\n",
    "#         edge_trace['y'] += (y0, y1, None)\n",
    "\n",
    "#     node_trace = go.Scatter(\n",
    "#         x=[],\n",
    "#         y=[],\n",
    "#         text=[],\n",
    "#         mode='markers+text',\n",
    "#         hoverinfo='text',\n",
    "#         marker=dict(\n",
    "#             colorscale='Blues',\n",
    "#             reversescale=False,\n",
    "#             color=[],\n",
    "#             size=10,\n",
    "#             colorbar=dict(\n",
    "#                 thickness=15,\n",
    "#                 title='Stopień węzła',\n",
    "#                 xanchor='left',\n",
    "#                 titleside='right'\n",
    "#             ),\n",
    "#             line=dict(width=2)))\n",
    "\n",
    "#     for node in G.nodes():\n",
    "#         x, y = pos[node]\n",
    "#         node_trace['x'] += (x,)\n",
    "#         node_trace['y'] += (y,)\n",
    "#         node_trace['text'] += ('Var: ' + str(node),)\n",
    "\n",
    "#     for node, adjacencies in enumerate(G.adjacency()):\n",
    "#         node_trace['marker']['color'] += (len(adjacencies[1]),)\n",
    "\n",
    "#     layout = go.Layout(\n",
    "#         titlefont=dict(size=16),\n",
    "#         showlegend=False,\n",
    "#         hovermode='closest',\n",
    "#         margin=dict(b=5, l=5, r=5, t=5),\n",
    "#         annotations=[dict(\n",
    "#             text=\"\",\n",
    "#             showarrow=False,\n",
    "#             xref=\"paper\", yref=\"paper\")],\n",
    "#         xaxis=dict(showgrid=False, zeroline=False, showticklabels=False),\n",
    "#         yaxis=dict(showgrid=False, zeroline=False, showticklabels=False))\n",
    "\n",
    "#     fig = go.Figure(data=[edge_trace, node_trace], layout=layout)\n",
    "#     fig.show()\n"
   ]
  },
  {
   "cell_type": "code",
   "execution_count": 21,
   "metadata": {},
   "outputs": [],
   "source": [
    "def interactive_directed_graph(G, pos):\n",
    "    edge_trace = go.Scatter(\n",
    "        x=[],\n",
    "        y=[],\n",
    "        line=dict(width=1, color='#888'),\n",
    "        hoverinfo='none',\n",
    "        mode='lines',\n",
    "        marker=dict(\n",
    "            showscale=False,\n",
    "            colorscale='Blues',\n",
    "            reversescale=True,\n",
    "            color=[],\n",
    "            size=5,\n",
    "            colorbar=dict(\n",
    "                thickness=15,\n",
    "                title='Weight',\n",
    "                xanchor='left',\n",
    "                titleside='right'\n",
    "            ),\n",
    "            line=dict(width=2)))\n",
    "\n",
    "    for edge in G.edges():\n",
    "        x0, y0 = pos[edge[0]]\n",
    "        x1, y1 = pos[edge[1]]\n",
    "        edge_trace['x'] += (x0, x1, None)\n",
    "        edge_trace['y'] += (y0, y1, None)\n",
    "\n",
    "    # Dodanie strzałek na krawędziach skierowanych\n",
    "    arrows = []\n",
    "    for edge in G.edges():\n",
    "        x0, y0 = pos[edge[0]]\n",
    "        x1, y1 = pos[edge[1]]\n",
    "        arrows.append(go.Scatter(x=[x0, x1, None], y=[y0, y1, None],\n",
    "                                 mode='lines',\n",
    "                                 line=dict(color='black', width=1),\n",
    "                                 hoverinfo='none',\n",
    "                                 showlegend=False))\n",
    "\n",
    "    arrow_annotations = []\n",
    "    for edge in G.edges():\n",
    "        x0, y0 = pos[edge[0]]\n",
    "        x1, y1 = pos[edge[1]]\n",
    "        arrow_annotations.append(\n",
    "            dict(\n",
    "                x=x1, y=y1,\n",
    "                xref='x', yref='y',\n",
    "                showarrow=True,\n",
    "                arrowhead=3,\n",
    "                arrowsize=1,\n",
    "                arrowwidth=1,\n",
    "                arrowcolor='black',\n",
    "                ax=x0, ay=y0\n",
    "            )\n",
    "        )\n",
    "\n",
    "    node_trace = go.Scatter(\n",
    "        x=[],\n",
    "        y=[],\n",
    "        text=[],\n",
    "        mode='markers+text',\n",
    "        hoverinfo='text',\n",
    "        marker=dict(\n",
    "            colorscale='Blues',\n",
    "            reversescale=False,\n",
    "            color=[],\n",
    "            size=10,\n",
    "            colorbar=dict(\n",
    "                thickness=15,\n",
    "                title='Node Degree',\n",
    "                xanchor='left',\n",
    "                titleside='right'\n",
    "            ),\n",
    "            line=dict(width=2)))\n",
    "\n",
    "    for node in G.nodes():\n",
    "        x, y = pos[node]\n",
    "        node_trace['x'] += (x,)\n",
    "        node_trace['y'] += (y,)\n",
    "        node_trace['text'] += ('Var: ' + str(node),)\n",
    "\n",
    "    for node, adjacencies in enumerate(G.adjacency()):\n",
    "        node_trace['marker']['color'] += (len(adjacencies[1]),)\n",
    "\n",
    "    layout = go.Layout(\n",
    "        titlefont=dict(size=16),\n",
    "        showlegend=False,\n",
    "        hovermode='closest',\n",
    "        margin=dict(b=5, l=5, r=5, t=5),\n",
    "        annotations=[dict(\n",
    "            text=\"\",\n",
    "            showarrow=False,\n",
    "            xref=\"paper\", yref=\"paper\")],\n",
    "        xaxis=dict(showgrid=False, zeroline=False, showticklabels=False),\n",
    "        yaxis=dict(showgrid=False, zeroline=False, showticklabels=False))\n",
    "\n",
    "    fig = go.Figure(data=[edge_trace, node_trace], layout=layout)\n",
    "    fig.show()\n"
   ]
  },
  {
   "cell_type": "code",
   "execution_count": 22,
   "metadata": {},
   "outputs": [
    {
     "name": "stderr",
     "output_type": "stream",
     "text": [
      "Computing transition probabilities: 100%|██████████| 100/100 [00:00<00:00, 836.84it/s]"
     ]
    },
    {
     "name": "stderr",
     "output_type": "stream",
     "text": [
      "\n"
     ]
    },
    {
     "data": {
      "image/png": "[encoded data removed]",
      "text/plain": [
       "<Figure size 640x480 with 1 Axes>"
      ]
     },
     "metadata": {},
     "output_type": "display_data"
    },
    {
     "data": {
      "application/vnd.plotly.v1+json": {
       "config": {
        "plotlyServerURL": "https://plot.ly"
       },
       "data": [
        {
         "hoverinfo": "none",
         "line": {
          "color": "#888",
          "width": 1
         },
         "marker": {
          "color": [],
          "colorbar": {
           "thickness": 15,
           "title": {
            "side": "right",
            "text": "Weight"
           },
           "xanchor": "left"
          },
          "colorscale": [
           [
            0,
            "rgb(247,251,255)"
           ],
           [
            0.125,
            "rgb(222,235,247)"
           ],
           [
            0.25,
            "rgb(198,219,239)"
           ],
           [
            0.375,
            "rgb(158,202,225)"
           ],
           [
            0.5,
            "rgb(107,174,214)"
           ],
           [
            0.625,
            "rgb(66,146,198)"
           ],
           [
            0.75,
            "rgb(33,113,181)"
           ],
           [
            0.875,
            "rgb(8,81,156)"
           ],
           [
            1,
            "rgb(8,48,107)"
           ]
          ],
          "line": {
           "width": 2
          },
          "reversescale": true,
          "showscale": false,
          "size": 5
         },
         "mode": "lines",
         "type": "scatter",
         "x": [
          -5.371719074443973,
          -5.422299756828681,
          null,
          -5.422299756828681,
          -5.062981276256007,
          null,
          -5.062981276256007,
          -5.422299756828681,
          null,
          -4.645503211923846,
          -5.062981276256007,
          null,
          4.040892961419463,
          4.724515346911674,
          null,
          4.724515346911674,
          5.900660081445658,
          null,
          -5.59732982930671,
          -5.422299756828681,
          null,
          -10,
          -9.466605380397267,
          null,
          -9.466605380397267,
          -10,
          null,
          8.901100177889413,
          8.198368507849182,
          null,
          8.198368507849182,
          8.290255366731383,
          null,
          -9.269697841344149,
          -10,
          null,
          -9.789489803331605,
          -10,
          null,
          -8.415565449298256,
          -9.466605380397267,
          null,
          2.947764319293681,
          3.370247798741222,
          null,
          3.370247798741222,
          3.905423339290548,
          null,
          -7.613110918490803,
          -8.415565449298256,
          null,
          -7.296258945805107,
          -7.613110918490803,
          null,
          5.381873835498548,
          7.191790913911971,
          null,
          7.191790913911971,
          8.290255366731383,
          null,
          -7.166851972910456,
          -8.415565449298256,
          null,
          -7.307257871995915,
          -8.415565449298256,
          null,
          8.19257315404972,
          8.198368507849182,
          null,
          8.290255366731383,
          8.198368507849182,
          null,
          8.477300611354297,
          7.909668026257256,
          null,
          7.909668026257256,
          8.477300611354297,
          null,
          5.900660081445658,
          5.446514519469692,
          null,
          7.002144327694673,
          8.477300611354297,
          null,
          7.2481496094252265,
          8.477300611354297,
          null,
          5.874768118730551,
          7.2481496094252265,
          null,
          4.804320222442671,
          5.874768118730551,
          null,
          5.356763272617597,
          5.777680381518701,
          null,
          5.777680381518701,
          5.446514519469692,
          null,
          5.446514519469692,
          5.777680381518701,
          null,
          -2.1814031357710006,
          -2.4611218208569547,
          null,
          -2.4611218208569547,
          -2.710802926191661,
          null,
          5.063396618346143,
          5.777680381518701,
          null,
          1.4316865725695274,
          1.9837280050878348,
          null,
          1.9837280050878348,
          2.4156219745275602,
          null,
          -7.464407117255711,
          -9.524514061723432,
          null,
          -9.524514061723432,
          -9.269697841344149,
          null,
          3.8162535739959695,
          3.905423339290548,
          null,
          3.905423339290548,
          3.8162535739959695,
          null,
          4.986305509832968,
          5.900660081445658,
          null,
          0.9720788887951404,
          1.4316865725695274,
          null,
          -7.052957761244276,
          -9.789489803331605,
          null,
          -8.940679514759484,
          -9.328137645567459,
          null,
          -9.328137645567459,
          -8.940679514759484,
          null,
          -9.379830120831054,
          -9.328137645567459,
          null,
          -7.380822002885744,
          -9.328137645567459,
          null,
          -2.3700823057393956,
          -1.906051280653181,
          null,
          -1.906051280653181,
          -1.7434098157239835,
          null,
          -6.55371108411829,
          -6.811391208161384,
          null,
          -6.811391208161384,
          -6.55371108411829,
          null,
          -5.71365006804956,
          -6.55371108411829,
          null,
          -7.065549351607321,
          -6.55371108411829,
          null,
          -5.113893595195713,
          -5.71365006804956,
          null,
          -7.119639455230879,
          -8.940679514759484,
          null,
          -6.3667202103419935,
          -6.811391208161384,
          null,
          -0.905323262968996,
          -1.301105888534767,
          null,
          -1.301105888534767,
          -0.905323262968996,
          null,
          -9.034261631639225,
          -9.485495531418854,
          null,
          -9.485495531418854,
          -9.034261631639225,
          null,
          5.3581706690243935,
          6.801193241314792,
          null,
          6.801193241314792,
          7.130216348198144,
          null,
          -9.320510228691488,
          -9.789489803331605,
          null,
          -7.984561822108471,
          -9.320510228691488,
          null,
          7.130216348198144,
          6.801193241314792,
          null,
          6.098079154051703,
          6.801193241314792,
          null,
          6.0643704735824935,
          6.801193241314792,
          null,
          7.113736622046702,
          7.456971883584362,
          null,
          7.456971883584362,
          7.983821207792798,
          null,
          7.983821207792798,
          7.456971883584362,
          null,
          -2.361327294401895,
          -2.345844133445055,
          null,
          -2.345844133445055,
          -2.710802926191661,
          null,
          2.596258019513521,
          2.4156219745275602,
          null,
          2.4156219745275602,
          2.596258019513521,
          null,
          5.197169520212122,
          6.698491365712379,
          null,
          6.698491365712379,
          7.909668026257256,
          null,
          2.0825271176482962,
          2.4156219745275602,
          null,
          -7.524535985375841,
          -9.524514061723432,
          null,
          2.0787888728567476,
          2.4156219745275602,
          null,
          3.5927464445661292,
          3.905423339290548,
          null,
          -0.9616002234930944,
          -0.905323262968996,
          null,
          -2.710802926191661,
          -2.345844133445055,
          null,
          -0.8703563016358549,
          -1.301105888534767,
          null,
          2.3904464510588754,
          2.4156219745275602,
          null,
          1.9095435398037222,
          2.4156219745275602,
          null,
          4.029421402048154,
          4.804320222442671,
          null,
          8.165733834454768,
          7.8948921275932715,
          null,
          7.8948921275932715,
          8.165733834454768,
          null,
          -0.42847956559735656,
          -0.9616002234930944,
          null,
          3.769172341348442,
          5.197169520212122,
          null,
          -2.452613148584039,
          -2.361327294401895,
          null,
          -1.7434098157239835,
          -2.2556538215834308,
          null,
          -2.2556538215834308,
          -2.710802926191661,
          null,
          3.5697647758587703,
          3.8162535739959695,
          null,
          6.417534747651523,
          7.055909360781857,
          null,
          7.055909360781857,
          8.290255366731383,
          null,
          5.77830909731737,
          7.456971883584362,
          null
         ],
         "y": [
          7.703369083000338,
          7.118507792076076,
          null,
          7.118507792076076,
          6.9205054391740095,
          null,
          6.9205054391740095,
          7.118507792076076,
          null,
          7.174913397993828,
          6.9205054391740095,
          null,
          -2.4675627534414044,
          -3.3423295572167753,
          null,
          -3.3423295572167753,
          -4.995320457649093,
          null,
          7.439623129517255,
          7.118507792076076,
          null,
          0.9317748092540937,
          0.9372950294487786,
          null,
          0.9372950294487786,
          0.9317748092540937,
          null,
          -1.7443183561513464,
          -1.6399891749455484,
          null,
          -1.6399891749455484,
          -2.1266221525952074,
          null,
          1.236200022075875,
          0.9317748092540937,
          null,
          1.4364790617953,
          0.9317748092540937,
          null,
          1.1827828446393003,
          0.9372950294487786,
          null,
          5.7039623987330765,
          6.551115966796607,
          null,
          6.551115966796607,
          7.985242608098254,
          null,
          1.503329532736759,
          1.1827828446393003,
          null,
          2.1874814907173774,
          1.503329532736759,
          null,
          -1.2036102142573086,
          -1.6160168599472158,
          null,
          -1.6160168599472158,
          -2.1266221525952074,
          null,
          1.2731509879354388,
          1.1827828446393003,
          null,
          1.4833421687436579,
          1.1827828446393003,
          null,
          -1.0673030967427852,
          -1.6399891749455484,
          null,
          -2.1266221525952074,
          -1.6399891749455484,
          null,
          2.713652488155409,
          2.5977658639265657,
          null,
          2.5977658639265657,
          2.713652488155409,
          null,
          -4.995320457649093,
          -5.162530082392118,
          null,
          2.337631954559077,
          2.713652488155409,
          null,
          2.3459205900651225,
          2.713652488155409,
          null,
          1.8969974734306052,
          2.3459205900651225,
          null,
          1.519287918025711,
          1.8969974734306052,
          null,
          -4.90772047119652,
          -5.679308314992298,
          null,
          -5.679308314992298,
          -5.162530082392118,
          null,
          -5.162530082392118,
          -5.679308314992298,
          null,
          -5.074632616831403,
          -6.202587753858141,
          null,
          -6.202587753858141,
          -7.071024237660478,
          null,
          -4.954269183533801,
          -5.679308314992298,
          null,
          -5.220037582540766,
          -5.774338765195109,
          null,
          -5.774338765195109,
          -5.617601884571213,
          null,
          1.9109263771584664,
          1.7449701554794224,
          null,
          1.7449701554794224,
          1.236200022075875,
          null,
          7.544432563767095,
          7.985242608098254,
          null,
          7.985242608098254,
          7.544432563767095,
          null,
          -3.6497018537669184,
          -4.995320457649093,
          null,
          -4.233026351487704,
          -5.220037582540766,
          null,
          1.7453405793439882,
          1.4364790617953,
          null,
          -0.7049809104093075,
          -0.6043401151316179,
          null,
          -0.6043401151316179,
          -0.7049809104093075,
          null,
          -0.9811805616241073,
          -0.6043401151316179,
          null,
          -0.0648222792213922,
          -0.6043401151316179,
          null,
          -5.117990900912288,
          -5.610197163438511,
          null,
          -5.610197163438511,
          -5.506257885409133,
          null,
          -4.701049204254918,
          -5.073264020558345,
          null,
          -5.073264020558345,
          -4.701049204254918,
          null,
          -3.791138744285626,
          -4.701049204254918,
          null,
          -4.746335621444754,
          -4.701049204254918,
          null,
          -3.0756254505690976,
          -3.791138744285626,
          null,
          -0.31675594634906834,
          -0.7049809104093075,
          null,
          -5.170053565126653,
          -5.073264020558345,
          null,
          5.557977339228636,
          5.8663113959753055,
          null,
          5.8663113959753055,
          5.557977339228636,
          null,
          -2.782309153516445,
          -3.056544491942827,
          null,
          -3.056544491942827,
          -2.782309153516445,
          null,
          4.131286375137605,
          5.799871975485435,
          null,
          5.799871975485435,
          6.277817162382496,
          null,
          2.074974869615455,
          1.4364790617953,
          null,
          2.5542940001901697,
          2.074974869615455,
          null,
          6.277817162382496,
          5.799871975485435,
          null,
          4.696933049797142,
          5.799871975485435,
          null,
          4.9585996894657,
          5.799871975485435,
          null,
          4.858835224898346,
          4.632024322165853,
          null,
          4.632024322165853,
          4.94453800214237,
          null,
          4.94453800214237,
          4.632024322165853,
          null,
          -7.518839485921479,
          -6.940471061668834,
          null,
          -6.940471061668834,
          -7.071024237660478,
          null,
          -6.208016777238467,
          -5.617601884571213,
          null,
          -5.617601884571213,
          -6.208016777238467,
          null,
          2.2171680713691186,
          2.418978753772783,
          null,
          2.418978753772783,
          2.5977658639265657,
          null,
          -5.1280297667760575,
          -5.617601884571213,
          null,
          2.1110848804391344,
          1.7449701554794224,
          null,
          -4.465539105280596,
          -5.617601884571213,
          null,
          6.493540679944072,
          7.985242608098254,
          null,
          6.1043507678343465,
          5.557977339228636,
          null,
          -7.071024237660478,
          -6.940471061668834,
          null,
          5.198750416963853,
          5.8663113959753055,
          null,
          -4.87696244819375,
          -5.617601884571213,
          null,
          -4.6886979850374395,
          -5.617601884571213,
          null,
          1.2592731533510142,
          1.519287918025711,
          null,
          -1.8765097207131571,
          -1.5026700761289487,
          null,
          -1.5026700761289487,
          -1.8765097207131571,
          null,
          6.155013059320215,
          6.1043507678343465,
          null,
          2.0752391210313013,
          2.2171680713691186,
          null,
          -8.090650048032893,
          -7.518839485921479,
          null,
          -5.506257885409133,
          -5.833923385006443,
          null,
          -5.833923385006443,
          -7.071024237660478,
          null,
          6.231196061476473,
          7.544432563767095,
          null,
          -1.7052793513659814,
          -1.8227760176957555,
          null,
          -1.8227760176957555,
          -2.1266221525952074,
          null,
          3.9670028655927223,
          4.632024322165853,
          null
         ]
        },
        {
         "hoverinfo": "text",
         "marker": {
          "color": [
           1,
           1,
           1,
           1,
           1,
           1,
           1,
           1,
           1,
           1,
           1,
           1,
           1,
           1,
           1,
           1,
           1,
           1,
           1,
           1,
           1,
           1,
           1,
           1,
           1,
           1,
           1,
           1,
           1,
           1,
           1,
           1,
           1,
           1,
           1,
           1,
           1,
           1,
           1,
           1,
           1,
           1,
           1,
           1,
           1,
           1,
           1,
           1,
           1,
           1,
           1,
           1,
           1,
           1,
           1,
           1,
           1,
           1,
           1,
           1,
           1,
           1,
           1,
           1,
           1,
           1,
           1,
           1,
           1,
           1,
           1,
           1,
           1,
           1,
           1,
           1,
           1,
           1,
           1,
           1,
           1,
           1,
           1,
           1,
           1,
           1,
           1,
           1,
           1,
           1,
           1,
           1,
           1,
           1,
           1,
           1,
           1,
           1,
           1,
           1
          ],
          "colorbar": {
           "thickness": 15,
           "title": {
            "side": "right",
            "text": "Node Degree"
           },
           "xanchor": "left"
          },
          "colorscale": [
           [
            0,
            "rgb(247,251,255)"
           ],
           [
            0.125,
            "rgb(222,235,247)"
           ],
           [
            0.25,
            "rgb(198,219,239)"
           ],
           [
            0.375,
            "rgb(158,202,225)"
           ],
           [
            0.5,
            "rgb(107,174,214)"
           ],
           [
            0.625,
            "rgb(66,146,198)"
           ],
           [
            0.75,
            "rgb(33,113,181)"
           ],
           [
            0.875,
            "rgb(8,81,156)"
           ],
           [
            1,
            "rgb(8,48,107)"
           ]
          ],
          "line": {
           "width": 2
          },
          "reversescale": false,
          "size": 10
         },
         "mode": "markers+text",
         "text": [
          "Var: 16",
          "Var: 78",
          "Var: 30",
          "Var: 95",
          "Var: 35",
          "Var: 84",
          "Var: 85",
          "Var: 8",
          "Var: 73",
          "Var: 55",
          "Var: 90",
          "Var: 100",
          "Var: 9",
          "Var: 52",
          "Var: 38",
          "Var: 7",
          "Var: 66",
          "Var: 83",
          "Var: 87",
          "Var: 25",
          "Var: 74",
          "Var: 89",
          "Var: 40",
          "Var: 82",
          "Var: 11",
          "Var: 75",
          "Var: 77",
          "Var: 96",
          "Var: 23",
          "Var: 29",
          "Var: 65",
          "Var: 54",
          "Var: 70",
          "Var: 19",
          "Var: 22",
          "Var: 15",
          "Var: 68",
          "Var: 81",
          "Var: 72",
          "Var: 48",
          "Var: 24",
          "Var: 93",
          "Var: 56",
          "Var: 3",
          "Var: 18",
          "Var: 47",
          "Var: 61",
          "Var: 62",
          "Var: 50",
          "Var: 53",
          "Var: 27",
          "Var: 97",
          "Var: 4",
          "Var: 43",
          "Var: 14",
          "Var: 76",
          "Var: 80",
          "Var: 10",
          "Var: 39",
          "Var: 1",
          "Var: 17",
          "Var: 49",
          "Var: 26",
          "Var: 51",
          "Var: 12",
          "Var: 57",
          "Var: 60",
          "Var: 69",
          "Var: 45",
          "Var: 2",
          "Var: 33",
          "Var: 98",
          "Var: 32",
          "Var: 5",
          "Var: 44",
          "Var: 42",
          "Var: 31",
          "Var: 64",
          "Var: 36",
          "Var: 20",
          "Var: 37",
          "Var: 71",
          "Var: 91",
          "Var: 94",
          "Var: 13",
          "Var: 79",
          "Var: 6",
          "Var: 46",
          "Var: 41",
          "Var: 88",
          "Var: 28",
          "Var: 21",
          "Var: 86",
          "Var: 59",
          "Var: 99",
          "Var: 58",
          "Var: 67",
          "Var: 34",
          "Var: 92",
          "Var: 63"
         ],
         "type": "scatter",
         "x": [
          -5.371719074443973,
          -5.422299756828681,
          -5.062981276256007,
          -4.645503211923846,
          4.040892961419463,
          4.724515346911674,
          -5.59732982930671,
          -10,
          -9.466605380397267,
          8.901100177889413,
          8.198368507849182,
          -9.269697841344149,
          -9.789489803331605,
          -8.415565449298256,
          2.947764319293681,
          3.370247798741222,
          -7.613110918490803,
          -7.296258945805107,
          5.381873835498548,
          7.191790913911971,
          -7.166851972910456,
          -7.307257871995915,
          8.19257315404972,
          8.290255366731383,
          8.477300611354297,
          7.909668026257256,
          5.900660081445658,
          7.002144327694673,
          7.2481496094252265,
          5.874768118730551,
          4.804320222442671,
          5.356763272617597,
          5.777680381518701,
          5.446514519469692,
          -2.1814031357710006,
          -2.4611218208569547,
          5.063396618346143,
          1.4316865725695274,
          1.9837280050878348,
          -7.464407117255711,
          -9.524514061723432,
          3.8162535739959695,
          3.905423339290548,
          4.986305509832968,
          0.9720788887951404,
          -7.052957761244276,
          -8.940679514759484,
          -9.328137645567459,
          -9.379830120831054,
          -7.380822002885744,
          -2.3700823057393956,
          -1.906051280653181,
          -6.55371108411829,
          -6.811391208161384,
          -5.71365006804956,
          -7.065549351607321,
          -5.113893595195713,
          -7.119639455230879,
          -6.3667202103419935,
          -0.905323262968996,
          -1.301105888534767,
          -9.034261631639225,
          -9.485495531418854,
          5.3581706690243935,
          6.801193241314792,
          -9.320510228691488,
          -7.984561822108471,
          7.130216348198144,
          6.098079154051703,
          6.0643704735824935,
          7.113736622046702,
          7.456971883584362,
          7.983821207792798,
          -2.361327294401895,
          -2.345844133445055,
          2.596258019513521,
          2.4156219745275602,
          5.197169520212122,
          6.698491365712379,
          2.0825271176482962,
          -7.524535985375841,
          2.0787888728567476,
          3.5927464445661292,
          -0.9616002234930944,
          -2.710802926191661,
          -0.8703563016358549,
          2.3904464510588754,
          1.9095435398037222,
          4.029421402048154,
          8.165733834454768,
          7.8948921275932715,
          -0.42847956559735656,
          3.769172341348442,
          -2.452613148584039,
          -1.7434098157239835,
          -2.2556538215834308,
          3.5697647758587703,
          6.417534747651523,
          7.055909360781857,
          5.77830909731737
         ],
         "y": [
          7.703369083000338,
          7.118507792076076,
          6.9205054391740095,
          7.174913397993828,
          -2.4675627534414044,
          -3.3423295572167753,
          7.439623129517255,
          0.9317748092540937,
          0.9372950294487786,
          -1.7443183561513464,
          -1.6399891749455484,
          1.236200022075875,
          1.4364790617953,
          1.1827828446393003,
          5.7039623987330765,
          6.551115966796607,
          1.503329532736759,
          2.1874814907173774,
          -1.2036102142573086,
          -1.6160168599472158,
          1.2731509879354388,
          1.4833421687436579,
          -1.0673030967427852,
          -2.1266221525952074,
          2.713652488155409,
          2.5977658639265657,
          -4.995320457649093,
          2.337631954559077,
          2.3459205900651225,
          1.8969974734306052,
          1.519287918025711,
          -4.90772047119652,
          -5.679308314992298,
          -5.162530082392118,
          -5.074632616831403,
          -6.202587753858141,
          -4.954269183533801,
          -5.220037582540766,
          -5.774338765195109,
          1.9109263771584664,
          1.7449701554794224,
          7.544432563767095,
          7.985242608098254,
          -3.6497018537669184,
          -4.233026351487704,
          1.7453405793439882,
          -0.7049809104093075,
          -0.6043401151316179,
          -0.9811805616241073,
          -0.0648222792213922,
          -5.117990900912288,
          -5.610197163438511,
          -4.701049204254918,
          -5.073264020558345,
          -3.791138744285626,
          -4.746335621444754,
          -3.0756254505690976,
          -0.31675594634906834,
          -5.170053565126653,
          5.557977339228636,
          5.8663113959753055,
          -2.782309153516445,
          -3.056544491942827,
          4.131286375137605,
          5.799871975485435,
          2.074974869615455,
          2.5542940001901697,
          6.277817162382496,
          4.696933049797142,
          4.9585996894657,
          4.858835224898346,
          4.632024322165853,
          4.94453800214237,
          -7.518839485921479,
          -6.940471061668834,
          -6.208016777238467,
          -5.617601884571213,
          2.2171680713691186,
          2.418978753772783,
          -5.1280297667760575,
          2.1110848804391344,
          -4.465539105280596,
          6.493540679944072,
          6.1043507678343465,
          -7.071024237660478,
          5.198750416963853,
          -4.87696244819375,
          -4.6886979850374395,
          1.2592731533510142,
          -1.8765097207131571,
          -1.5026700761289487,
          6.155013059320215,
          2.0752391210313013,
          -8.090650048032893,
          -5.506257885409133,
          -5.833923385006443,
          6.231196061476473,
          -1.7052793513659814,
          -1.8227760176957555,
          3.9670028655927223
         ]
        }
       ],
       "layout": {
        "annotations": [
         {
          "showarrow": false,
          "text": "",
          "xref": "paper",
          "yref": "paper"
         }
        ],
        "hovermode": "closest",
        "margin": {
         "b": 5,
         "l": 5,
         "r": 5,
         "t": 5
        },
        "showlegend": false,
        "template": {
         "data": {
          "bar": [
           {
            "error_x": {
             "color": "#2a3f5f"
            },
            "error_y": {
             "color": "#2a3f5f"
            },
            "marker": {
             "line": {
              "color": "#E5ECF6",
              "width": 0.5
             },
             "pattern": {
              "fillmode": "overlay",
              "size": 10,
              "solidity": 0.2
             }
            },
            "type": "bar"
           }
          ],
          "barpolar": [
           {
            "marker": {
             "line": {
              "color": "#E5ECF6",
              "width": 0.5
             },
             "pattern": {
              "fillmode": "overlay",
              "size": 10,
              "solidity": 0.2
             }
            },
            "type": "barpolar"
           }
          ],
          "carpet": [
           {
            "aaxis": {
             "endlinecolor": "#2a3f5f",
             "gridcolor": "white",
             "linecolor": "white",
             "minorgridcolor": "white",
             "startlinecolor": "#2a3f5f"
            },
            "baxis": {
             "endlinecolor": "#2a3f5f",
             "gridcolor": "white",
             "linecolor": "white",
             "minorgridcolor": "white",
             "startlinecolor": "#2a3f5f"
            },
            "type": "carpet"
           }
          ],
          "choropleth": [
           {
            "colorbar": {
             "outlinewidth": 0,
             "ticks": ""
            },
            "type": "choropleth"
           }
          ],
          "contour": [
           {
            "colorbar": {
             "outlinewidth": 0,
             "ticks": ""
            },
            "colorscale": [
             [
              0,
              "#0d0887"
             ],
             [
              0.1111111111111111,
              "#46039f"
             ],
             [
              0.2222222222222222,
              "#7201a8"
             ],
             [
              0.3333333333333333,
              "#9c179e"
             ],
             [
              0.4444444444444444,
              "#bd3786"
             ],
             [
              0.5555555555555556,
              "#d8576b"
             ],
             [
              0.6666666666666666,
              "#ed7953"
             ],
             [
              0.7777777777777778,
              "#fb9f3a"
             ],
             [
              0.8888888888888888,
              "#fdca26"
             ],
             [
              1,
              "#f0f921"
             ]
            ],
            "type": "contour"
           }
          ],
          "contourcarpet": [
           {
            "colorbar": {
             "outlinewidth": 0,
             "ticks": ""
            },
            "type": "contourcarpet"
           }
          ],
          "heatmap": [
           {
            "colorbar": {
             "outlinewidth": 0,
             "ticks": ""
            },
            "colorscale": [
             [
              0,
              "#0d0887"
             ],
             [
              0.1111111111111111,
              "#46039f"
             ],
             [
              0.2222222222222222,
              "#7201a8"
             ],
             [
              0.3333333333333333,
              "#9c179e"
             ],
             [
              0.4444444444444444,
              "#bd3786"
             ],
             [
              0.5555555555555556,
              "#d8576b"
             ],
             [
              0.6666666666666666,
              "#ed7953"
             ],
             [
              0.7777777777777778,
              "#fb9f3a"
             ],
             [
              0.8888888888888888,
              "#fdca26"
             ],
             [
              1,
              "#f0f921"
             ]
            ],
            "type": "heatmap"
           }
          ],
          "heatmapgl": [
           {
            "colorbar": {
             "outlinewidth": 0,
             "ticks": ""
            },
            "colorscale": [
             [
              0,
              "#0d0887"
             ],
             [
              0.1111111111111111,
              "#46039f"
             ],
             [
              0.2222222222222222,
              "#7201a8"
             ],
             [
              0.3333333333333333,
              "#9c179e"
             ],
             [
              0.4444444444444444,
              "#bd3786"
             ],
             [
              0.5555555555555556,
              "#d8576b"
             ],
             [
              0.6666666666666666,
              "#ed7953"
             ],
             [
              0.7777777777777778,
              "#fb9f3a"
             ],
             [
              0.8888888888888888,
              "#fdca26"
             ],
             [
              1,
              "#f0f921"
             ]
            ],
            "type": "heatmapgl"
           }
          ],
          "histogram": [
           {
            "marker": {
             "pattern": {
              "fillmode": "overlay",
              "size": 10,
              "solidity": 0.2
             }
            },
            "type": "histogram"
           }
          ],
          "histogram2d": [
           {
            "colorbar": {
             "outlinewidth": 0,
             "ticks": ""
            },
            "colorscale": [
             [
              0,
              "#0d0887"
             ],
             [
              0.1111111111111111,
              "#46039f"
             ],
             [
              0.2222222222222222,
              "#7201a8"
             ],
             [
              0.3333333333333333,
              "#9c179e"
             ],
             [
              0.4444444444444444,
              "#bd3786"
             ],
             [
              0.5555555555555556,
              "#d8576b"
             ],
             [
              0.6666666666666666,
              "#ed7953"
             ],
             [
              0.7777777777777778,
              "#fb9f3a"
             ],
             [
              0.8888888888888888,
              "#fdca26"
             ],
             [
              1,
              "#f0f921"
             ]
            ],
            "type": "histogram2d"
           }
          ],
          "histogram2dcontour": [
           {
            "colorbar": {
             "outlinewidth": 0,
             "ticks": ""
            },
            "colorscale": [
             [
              0,
              "#0d0887"
             ],
             [
              0.1111111111111111,
              "#46039f"
             ],
             [
              0.2222222222222222,
              "#7201a8"
             ],
             [
              0.3333333333333333,
              "#9c179e"
             ],
             [
              0.4444444444444444,
              "#bd3786"
             ],
             [
              0.5555555555555556,
              "#d8576b"
             ],
             [
              0.6666666666666666,
              "#ed7953"
             ],
             [
              0.7777777777777778,
              "#fb9f3a"
             ],
             [
              0.8888888888888888,
              "#fdca26"
             ],
             [
              1,
              "#f0f921"
             ]
            ],
            "type": "histogram2dcontour"
           }
          ],
          "mesh3d": [
           {
            "colorbar": {
             "outlinewidth": 0,
             "ticks": ""
            },
            "type": "mesh3d"
           }
          ],
          "parcoords": [
           {
            "line": {
             "colorbar": {
              "outlinewidth": 0,
              "ticks": ""
             }
            },
            "type": "parcoords"
           }
          ],
          "pie": [
           {
            "automargin": true,
            "type": "pie"
           }
          ],
          "scatter": [
           {
            "fillpattern": {
             "fillmode": "overlay",
             "size": 10,
             "solidity": 0.2
            },
            "type": "scatter"
           }
          ],
          "scatter3d": [
           {
            "line": {
             "colorbar": {
              "outlinewidth": 0,
              "ticks": ""
             }
            },
            "marker": {
             "colorbar": {
              "outlinewidth": 0,
              "ticks": ""
             }
            },
            "type": "scatter3d"
           }
          ],
          "scattercarpet": [
           {
            "marker": {
             "colorbar": {
              "outlinewidth": 0,
              "ticks": ""
             }
            },
            "type": "scattercarpet"
           }
          ],
          "scattergeo": [
           {
            "marker": {
             "colorbar": {
              "outlinewidth": 0,
              "ticks": ""
             }
            },
            "type": "scattergeo"
           }
          ],
          "scattergl": [
           {
            "marker": {
             "colorbar": {
              "outlinewidth": 0,
              "ticks": ""
             }
            },
            "type": "scattergl"
           }
          ],
          "scattermapbox": [
           {
            "marker": {
             "colorbar": {
              "outlinewidth": 0,
              "ticks": ""
             }
            },
            "type": "scattermapbox"
           }
          ],
          "scatterpolar": [
           {
            "marker": {
             "colorbar": {
              "outlinewidth": 0,
              "ticks": ""
             }
            },
            "type": "scatterpolar"
           }
          ],
          "scatterpolargl": [
           {
            "marker": {
             "colorbar": {
              "outlinewidth": 0,
              "ticks": ""
             }
            },
            "type": "scatterpolargl"
           }
          ],
          "scatterternary": [
           {
            "marker": {
             "colorbar": {
              "outlinewidth": 0,
              "ticks": ""
             }
            },
            "type": "scatterternary"
           }
          ],
          "surface": [
           {
            "colorbar": {
             "outlinewidth": 0,
             "ticks": ""
            },
            "colorscale": [
             [
              0,
              "#0d0887"
             ],
             [
              0.1111111111111111,
              "#46039f"
             ],
             [
              0.2222222222222222,
              "#7201a8"
             ],
             [
              0.3333333333333333,
              "#9c179e"
             ],
             [
              0.4444444444444444,
              "#bd3786"
             ],
             [
              0.5555555555555556,
              "#d8576b"
             ],
             [
              0.6666666666666666,
              "#ed7953"
             ],
             [
              0.7777777777777778,
              "#fb9f3a"
             ],
             [
              0.8888888888888888,
              "#fdca26"
             ],
             [
              1,
              "#f0f921"
             ]
            ],
            "type": "surface"
           }
          ],
          "table": [
           {
            "cells": {
             "fill": {
              "color": "#EBF0F8"
             },
             "line": {
              "color": "white"
             }
            },
            "header": {
             "fill": {
              "color": "#C8D4E3"
             },
             "line": {
              "color": "white"
             }
            },
            "type": "table"
           }
          ]
         },
         "layout": {
          "annotationdefaults": {
           "arrowcolor": "#2a3f5f",
           "arrowhead": 0,
           "arrowwidth": 1
          },
          "autotypenumbers": "strict",
          "coloraxis": {
           "colorbar": {
            "outlinewidth": 0,
            "ticks": ""
           }
          },
          "colorscale": {
           "diverging": [
            [
             0,
             "#8e0152"
            ],
            [
             0.1,
             "#c51b7d"
            ],
            [
             0.2,
             "#de77ae"
            ],
            [
             0.3,
             "#f1b6da"
            ],
            [
             0.4,
             "#fde0ef"
            ],
            [
             0.5,
             "#f7f7f7"
            ],
            [
             0.6,
             "#e6f5d0"
            ],
            [
             0.7,
             "#b8e186"
            ],
            [
             0.8,
             "#7fbc41"
            ],
            [
             0.9,
             "#4d9221"
            ],
            [
             1,
             "#276419"
            ]
           ],
           "sequential": [
            [
             0,
             "#0d0887"
            ],
            [
             0.1111111111111111,
             "#46039f"
            ],
            [
             0.2222222222222222,
             "#7201a8"
            ],
            [
             0.3333333333333333,
             "#9c179e"
            ],
            [
             0.4444444444444444,
             "#bd3786"
            ],
            [
             0.5555555555555556,
             "#d8576b"
            ],
            [
             0.6666666666666666,
             "#ed7953"
            ],
            [
             0.7777777777777778,
             "#fb9f3a"
            ],
            [
             0.8888888888888888,
             "#fdca26"
            ],
            [
             1,
             "#f0f921"
            ]
           ],
           "sequentialminus": [
            [
             0,
             "#0d0887"
            ],
            [
             0.1111111111111111,
             "#46039f"
            ],
            [
             0.2222222222222222,
             "#7201a8"
            ],
            [
             0.3333333333333333,
             "#9c179e"
            ],
            [
             0.4444444444444444,
             "#bd3786"
            ],
            [
             0.5555555555555556,
             "#d8576b"
            ],
            [
             0.6666666666666666,
             "#ed7953"
            ],
            [
             0.7777777777777778,
             "#fb9f3a"
            ],
            [
             0.8888888888888888,
             "#fdca26"
            ],
            [
             1,
             "#f0f921"
            ]
           ]
          },
          "colorway": [
           "#636efa",
           "#EF553B",
           "#00cc96",
           "#ab63fa",
           "#FFA15A",
           "#19d3f3",
           "#FF6692",
           "#B6E880",
           "#FF97FF",
           "#FECB52"
          ],
          "font": {
           "color": "#2a3f5f"
          },
          "geo": {
           "bgcolor": "white",
           "lakecolor": "white",
           "landcolor": "#E5ECF6",
           "showlakes": true,
           "showland": true,
           "subunitcolor": "white"
          },
          "hoverlabel": {
           "align": "left"
          },
          "hovermode": "closest",
          "mapbox": {
           "style": "light"
          },
          "paper_bgcolor": "white",
          "plot_bgcolor": "#E5ECF6",
          "polar": {
           "angularaxis": {
            "gridcolor": "white",
            "linecolor": "white",
            "ticks": ""
           },
           "bgcolor": "#E5ECF6",
           "radialaxis": {
            "gridcolor": "white",
            "linecolor": "white",
            "ticks": ""
           }
          },
          "scene": {
           "xaxis": {
            "backgroundcolor": "#E5ECF6",
            "gridcolor": "white",
            "gridwidth": 2,
            "linecolor": "white",
            "showbackground": true,
            "ticks": "",
            "zerolinecolor": "white"
           },
           "yaxis": {
            "backgroundcolor": "#E5ECF6",
            "gridcolor": "white",
            "gridwidth": 2,
            "linecolor": "white",
            "showbackground": true,
            "ticks": "",
            "zerolinecolor": "white"
           },
           "zaxis": {
            "backgroundcolor": "#E5ECF6",
            "gridcolor": "white",
            "gridwidth": 2,
            "linecolor": "white",
            "showbackground": true,
            "ticks": "",
            "zerolinecolor": "white"
           }
          },
          "shapedefaults": {
           "line": {
            "color": "#2a3f5f"
           }
          },
          "ternary": {
           "aaxis": {
            "gridcolor": "white",
            "linecolor": "white",
            "ticks": ""
           },
           "baxis": {
            "gridcolor": "white",
            "linecolor": "white",
            "ticks": ""
           },
           "bgcolor": "#E5ECF6",
           "caxis": {
            "gridcolor": "white",
            "linecolor": "white",
            "ticks": ""
           }
          },
          "title": {
           "x": 0.05
          },
          "xaxis": {
           "automargin": true,
           "gridcolor": "white",
           "linecolor": "white",
           "ticks": "",
           "title": {
            "standoff": 15
           },
           "zerolinecolor": "white",
           "zerolinewidth": 2
          },
          "yaxis": {
           "automargin": true,
           "gridcolor": "white",
           "linecolor": "white",
           "ticks": "",
           "title": {
            "standoff": 15
           },
           "zerolinecolor": "white",
           "zerolinewidth": 2
          }
         }
        },
        "title": {
         "font": {
          "size": 16
         }
        },
        "xaxis": {
         "showgrid": false,
         "showticklabels": false,
         "zeroline": false
        },
        "yaxis": {
         "showgrid": false,
         "showticklabels": false,
         "zeroline": false
        }
       }
      }
     },
     "metadata": {},
     "output_type": "display_data"
    }
   ],
   "source": [
    "def cala_operacja(nazwa_pliku):\n",
    "    num_vars, clauses = read_dimacs_cnf(nazwa_pliku)\n",
    "    model, G = generate_node_embeddings(clauses)\n",
    "    G2, pos = utworzSkierowanyGraf(G, model)\n",
    "    interactive_directed_graph(G2, pos)\n",
    "    return num_vars, clauses\n",
    "\n",
    "nazwa = \"DIMACS_files/turbo_easy/example_2.cnf\"\n",
    "num_vars, clauses = cala_operacja(nazwa)\n"
   ]
  }
 ],
 "metadata": {
  "kernelspec": {
   "display_name": "Python 3",
   "language": "python",
   "name": "python3"
  },
  "language_info": {
   "codemirror_mode": {
    "name": "ipython",
    "version": 3
   },
   "file_extension": ".py",
   "mimetype": "text/x-python",
   "name": "python",
   "nbconvert_exporter": "python",
   "pygments_lexer": "ipython3",
   "version": "3.10.11"
  }
 },
 "nbformat": 4,
 "nbformat_minor": 2
}
