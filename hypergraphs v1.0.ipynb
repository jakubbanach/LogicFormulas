{
 "cells": [
  {
   "cell_type": "code",
   "execution_count": null,
   "metadata": {},
   "outputs": [],
   "source": [
    "import networkx as nx\n",
    "import matplotlib.pyplot as plt\n",
    "from node2vec import Node2Vec"
   ]
  },
  {
   "cell_type": "code",
   "execution_count": null,
   "metadata": {},
   "outputs": [],
   "source": [
    "def read_dimacs_cnf(filename):\n",
    "    clauses = []\n",
    "    with open(filename, 'r') as file:\n",
    "        for line in file:\n",
    "            if line.startswith(\"c\"):\n",
    "                continue\n",
    "            if line.startswith(\"p cnf\"):\n",
    "                num_vars, num_clauses = map(int, line.strip().split()[2:])\n",
    "            else:\n",
    "                clause = list(map(int, line.strip().split()[:-1]))\n",
    "                clauses.append(clause)\n",
    "    return num_vars, clauses"
   ]
  },
  {
   "cell_type": "code",
   "execution_count": null,
   "metadata": {},
   "outputs": [],
   "source": [
    "def visualize_hypergraph(clauses):\n",
    "    G = nx.Graph()\n",
    "    for clause in clauses:\n",
    "        for literal in clause:\n",
    "            G.add_node(abs(literal))\n",
    "        edges = [(abs(literal), abs(other_literal)) for i, literal in enumerate(clause) for other_literal in clause[i+1:]]\n",
    "        G.add_edges_from(edges)\n",
    "    pos = nx.spring_layout(G)\n",
    "    nx.draw(G, pos, with_labels=True, node_size=500, edge_color='blue', font_color='black', font_weight='bold')\n",
    "    plt.title(\"Hypergraph Visualization\")\n",
    "    plt.show()\n",
    "\n",
    "def generate_node_embeddings(clauses):\n",
    "    G = nx.Graph()\n",
    "    for clause in clauses:\n",
    "        for literal in clause:\n",
    "            G.add_node(abs(literal))\n",
    "        edges = [(abs(literal), abs(other_literal)) for i, literal in enumerate(clause) for other_literal in clause[i+1:]]\n",
    "        G.add_edges_from(edges)\n",
    "\n",
    "    node2vec = Node2Vec(G, dimensions=64, walk_length=30, num_walks=200, workers=4)\n",
    "    model = node2vec.fit(window=10, min_count=1, batch_words=4)\n",
    "    return model, G\n",
    "\n",
    "def create_directed_graph(G, model):\n",
    "    G_directed = nx.DiGraph()\n",
    "    for i in sorted(G.nodes):\n",
    "        node, weight = model.wv.most_similar(f'{i}')[0]\n",
    "        G_directed.add_edge(i, int(node), weight=round(weight, 2))\n",
    "\n",
    "    pos = nx.spring_layout(G_directed, scale=10)\n",
    "    nx.draw(G_directed, pos, with_labels=True, node_size=150, arrowsize=20, edge_color='red', font_color='black', font_weight='bold')\n",
    "    labels = nx.get_edge_attributes(G_directed, 'weight')\n",
    "    nx.draw_networkx_edge_labels(G_directed, pos, edge_labels=labels)\n",
    "    plt.title(\"Directed Graph Visualization\")\n",
    "    plt.show()\n",
    "\n",
    "def whole_operation(filename):\n",
    "    num_vars, clauses = read_dimacs_cnf(filename)\n",
    "    model, G = generate_node_embeddings(clauses)\n",
    "    visualize_hypergraph(clauses)\n",
    "    create_directed_graph(G, model)"
   ]
  },
  {
   "cell_type": "code",
   "execution_count": null,
   "metadata": {},
   "outputs": [],
   "source": [
    "if __name__ == \"__main__\":\n",
    "    filename = \"DIMACS_files/turbo_easy/example_2.cnf\"\n",
    "    whole_operation(filename)"
   ]
  }
 ],
 "metadata": {
  "kernelspec": {
   "display_name": "Python 3",
   "language": "python",
   "name": "python3"
  },
  "language_info": {
   "codemirror_mode": {
    "name": "ipython",
    "version": 3
   },
   "file_extension": ".py",
   "mimetype": "text/x-python",
   "name": "python",
   "nbconvert_exporter": "python",
   "pygments_lexer": "ipython3",
   "version": "3.11.6"
  }
 },
 "nbformat": 4,
 "nbformat_minor": 2
}
