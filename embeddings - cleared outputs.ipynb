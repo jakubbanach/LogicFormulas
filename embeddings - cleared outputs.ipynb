{
 "cells": [
  {
   "cell_type": "code",
   "execution_count": null,
   "metadata": {},
   "outputs": [],
   "source": [
    "import networkx as nx\n",
    "import matplotlib.pyplot as plt\n",
    "import argparse\n",
    "from node2vec import Node2Vec"
   ]
  },
  {
   "cell_type": "code",
   "execution_count": null,
   "metadata": {},
   "outputs": [],
   "source": [
    "def read_dimacs_cnf(filename):\n",
    "    clauses = []\n",
    "    with open(filename, 'r') as file:\n",
    "        for line in file:\n",
    "            if line.startswith(\"c\"):\n",
    "                continue\n",
    "            if line.startswith(\"p cnf\"):\n",
    "                num_vars, num_clauses = map(int, line.strip().split()[2:])\n",
    "            else:\n",
    "                clause = list(map(int, line.strip().split()[:-1]))\n",
    "                clauses.append(clause)\n",
    "    return num_vars, clauses\n",
    "\n",
    "def visualize_graph(clauses):\n",
    "    G = nx.Graph()\n",
    "    for clause in clauses:\n",
    "        for literal in clause:\n",
    "            G.add_node(abs(literal))  # Dodanie węzłów dla zmiennych\n",
    "        for i in range(len(clause)):\n",
    "            for j in range(i+1, len(clause)):\n",
    "                G.add_edge(abs(clause[i]), abs(clause[j]))  # Dodanie krawędzi między zmiennymi w tej samej klauzuli\n",
    "    pos = nx.spring_layout(G)  # Ustalenie układu wizualizacji\n",
    "    nx.draw(G, pos, with_labels=True, node_size=500)\n",
    "    plt.show()\n",
    "\n",
    "def generate_node_embeddings(clauses):\n",
    "    G = nx.Graph()\n",
    "    for clause in clauses:\n",
    "        for literal in clause:\n",
    "            G.add_node(abs(literal))\n",
    "        for i in range(len(clause)):\n",
    "            for j in range(i+1, len(clause)):\n",
    "                G.add_edge(abs(clause[i]), abs(clause[j]))\n",
    "\n",
    "    node2vec = Node2Vec(G, dimensions=64, walk_length=30, num_walks=200, workers=4)\n",
    "    model = node2vec.fit(window=10, min_count=1, batch_words=4)\n",
    "    return model, G"
   ]
  },
  {
   "cell_type": "code",
   "execution_count": null,
   "metadata": {},
   "outputs": [],
   "source": [
    "nazwa_pliku = \"DIMACS_files/turbo_easy/example.cnf\"\n",
    "nazwa_pliku_1 = \"DIMACS_files/turbo_easy/example_1.cnf\"\n",
    "\n",
    "num_vars, clauses = read_dimacs_cnf(nazwa_pliku)\n",
    "num_vars_1, clauses_1 = read_dimacs_cnf(nazwa_pliku_1)\n",
    "print(num_vars)\n",
    "print(clauses)\n",
    "print(num_vars_1)\n",
    "print(clauses_1)"
   ]
  },
  {
   "cell_type": "code",
   "execution_count": null,
   "metadata": {},
   "outputs": [],
   "source": [
    "model, G = generate_node_embeddings(clauses)\n",
    "node_1_embedding = model.wv.get_vector(str(1))\n",
    "print(\"Embedding for node 1:\", node_1_embedding)"
   ]
  },
  {
   "cell_type": "code",
   "execution_count": null,
   "metadata": {},
   "outputs": [],
   "source": [
    "node_2_embedding = model.wv.get_vector(str(4))\n",
    "print(\"Embedding for node 2:\", node_2_embedding)"
   ]
  },
  {
   "cell_type": "code",
   "execution_count": null,
   "metadata": {},
   "outputs": [],
   "source": [
    "for node, _ in model.wv.most_similar('4'):\n",
    "    print((node, _))"
   ]
  },
  {
   "cell_type": "code",
   "execution_count": null,
   "metadata": {},
   "outputs": [],
   "source": [
    "nx.draw_networkx(G)"
   ]
  },
  {
   "cell_type": "code",
   "execution_count": null,
   "metadata": {},
   "outputs": [],
   "source": [
    "model_1, G1 = generate_node_embeddings(clauses_1)"
   ]
  },
  {
   "cell_type": "code",
   "execution_count": null,
   "metadata": {},
   "outputs": [],
   "source": [
    "for node, _ in model_1.wv.most_similar('1'):\n",
    "    print((node, _))"
   ]
  },
  {
   "cell_type": "code",
   "execution_count": null,
   "metadata": {},
   "outputs": [],
   "source": [
    "nx.draw_networkx(G1)"
   ]
  },
  {
   "cell_type": "code",
   "execution_count": null,
   "metadata": {},
   "outputs": [],
   "source": [
    "node_IDs = model.wv.index_to_key  # list of node IDs\n",
    "node_embeddings = model.wv.vectors\n",
    "print(node_IDs)\n",
    "print(node_embeddings)"
   ]
  },
  {
   "cell_type": "code",
   "execution_count": null,
   "metadata": {},
   "outputs": [],
   "source": [
    "nx.info(G)"
   ]
  },
  {
   "cell_type": "code",
   "execution_count": null,
   "metadata": {},
   "outputs": [],
   "source": [
    "# nx.draw_networkx(G1)\n",
    "nx.draw_networkx(G1)"
   ]
  },
  {
   "cell_type": "code",
   "execution_count": null,
   "metadata": {},
   "outputs": [],
   "source": [
    "# G.nodes\n",
    "for i in G.nodes:\n",
    "    for node, _ in model.wv.most_similar(f'{i}'):\n",
    "        print((i, node, _))\n",
    "    print(\"-----\")"
   ]
  },
  {
   "cell_type": "code",
   "execution_count": null,
   "metadata": {},
   "outputs": [],
   "source": [
    "for i in sorted(G1.nodes):\n",
    "    print((i, model_1.wv.most_similar(f'{i}')[0]))\n",
    "    # print(\"-----\")"
   ]
  },
  {
   "cell_type": "code",
   "execution_count": null,
   "metadata": {},
   "outputs": [],
   "source": [
    "def utworzSkierowanyGraf(G1, model_2):\n",
    "    G2 = nx.DiGraph()\n",
    "    for i in sorted(G1.nodes):\n",
    "        node, waga = model_2.wv.most_similar(f'{i}')[0]\n",
    "        # print(i, int(node), round(waga,2))\n",
    "        G2.add_edge(i, int(node))  # Dodanie krawędzi z wagą 5\n",
    "    # G2.add_edge(2, 3, weight=3)  # Dodanie krawędzi z wagą 3\n",
    "    # G2.add_edge(3, 4, weight=7)  # Dodanie krawędzi z wagą 7\n",
    "\n",
    "    # Rysowanie grafu\n",
    "    # pos = nx.shell_layout(G2)\n",
    "    pos = nx.spring_layout(G2, scale=10)\n",
    "    # pos = nx.kamada_kawai_layout(G2)\n",
    "    nx.draw(G2, pos, with_labels=True, node_size=150, arrowsize=20)\n",
    "    # Dodanie etykiet krawędzi\n",
    "    labels = nx.get_edge_attributes(G2, 'weight')\n",
    "    nx.draw_networkx_edge_labels(G2, pos, edge_labels=labels)\n",
    "    plt.show()"
   ]
  },
  {
   "cell_type": "code",
   "execution_count": null,
   "metadata": {},
   "outputs": [],
   "source": [
    "utworzSkierowanyGraf(G, model)\n",
    "utworzSkierowanyGraf(G1, model_1)"
   ]
  },
  {
   "cell_type": "code",
   "execution_count": null,
   "metadata": {},
   "outputs": [],
   "source": [
    "def cala_operacja(nazwa_pliku):\n",
    "    num_vars, clauses = read_dimacs_cnf(nazwa_pliku)\n",
    "    model, G = generate_node_embeddings(clauses)\n",
    "    utworzSkierowanyGraf(model, G)\n",
    "\n",
    "nazwa = \"DIMACS_files/turbo_easy/example_1.cnf\"\n",
    "cala_operacja(nazwa)"
   ]
  }
 ],
 "metadata": {
  "kernelspec": {
   "display_name": "Python 3",
   "language": "python",
   "name": "python3"
  },
  "language_info": {
   "codemirror_mode": {
    "name": "ipython",
    "version": 3
   },
   "file_extension": ".py",
   "mimetype": "text/x-python",
   "name": "python",
   "nbconvert_exporter": "python",
   "pygments_lexer": "ipython3",
   "version": "3.11.6"
  }
 },
 "nbformat": 4,
 "nbformat_minor": 2
}
