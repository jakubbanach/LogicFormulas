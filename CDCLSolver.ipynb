{
 "cells": [
  {
   "cell_type": "code",
   "execution_count": 5,
   "metadata": {},
   "outputs": [],
   "source": [
    "class CDCLSolver:\n",
    "    def __init__(self, num_vars, clauses):\n",
    "        self.num_vars = num_vars\n",
    "        self.clauses = clauses\n",
    "        self.assignment = [None] * (num_vars + 1)\n",
    "        self.decision_stack = []\n",
    "        self.learned_clauses = []\n",
    "\n",
    "    def solve(self):\n",
    "        while True:\n",
    "            conflict_clause = self.unit_propagation()\n",
    "            if conflict_clause is not None:\n",
    "                if not self.resolve_conflict(conflict_clause):\n",
    "                    return \"UNSAT\"\n",
    "            elif all(self.assignment[1:]):\n",
    "                return \"SAT\"\n",
    "            else:\n",
    "                var_to_assign = self.choose_variable()\n",
    "                self.assign_variable(var_to_assign)\n",
    "\n",
    "    def unit_propagation(self):\n",
    "        while True:\n",
    "            unit_clause = self.find_unit_clause()\n",
    "            if unit_clause is not None:\n",
    "                self.propagate_unit_assignment(unit_clause)\n",
    "            else:\n",
    "                return None\n",
    "\n",
    "    def find_unit_clause(self):\n",
    "        for clause in self.clauses:\n",
    "            unassigned_literals = [lit for lit in clause if self.assignment[abs(lit)] is None]\n",
    "            if len(unassigned_literals) == 1:\n",
    "                return clause\n",
    "        return None\n",
    "\n",
    "    def propagate_unit_assignment(self, unit_clause):\n",
    "        lit = [lit for lit in unit_clause if self.assignment[abs(lit)] is None][0]\n",
    "        self.assignment[abs(lit)] = lit\n",
    "        self.decision_stack.append(lit)\n",
    "\n",
    "    def choose_variable(self):\n",
    "        for var in range(1, self.num_vars + 1):\n",
    "            if self.assignment[var] is None:\n",
    "                return var\n",
    "\n",
    "    def assign_variable(self, var):\n",
    "        self.assignment[var] = var\n",
    "        self.decision_stack.append(var)\n",
    "\n",
    "    def resolve_conflict(self, conflict_clause):\n",
    "        if len(self.decision_stack) == 0:\n",
    "            return False  # UNSAT\n",
    "\n",
    "        conflict_var = abs(conflict_clause[0])\n",
    "        conflict_level = self.get_decision_level(conflict_var)\n",
    "\n",
    "        self.learned_clauses.append(conflict_clause)\n",
    "        while len(self.decision_stack) > 0 and self.get_decision_level(self.decision_stack[-1]) > conflict_level:\n",
    "            self.backtrack()\n",
    "\n",
    "        return True\n",
    "\n",
    "    def backtrack(self):\n",
    "        last_decision = self.decision_stack.pop()\n",
    "        self.assignment[abs(last_decision)] = None\n",
    "\n",
    "    def get_decision_level(self, var):\n",
    "        return len([lit for lit in self.decision_stack if abs(lit) == var])"
   ]
  },
  {
   "cell_type": "code",
   "execution_count": 6,
   "metadata": {},
   "outputs": [],
   "source": [
    "def read_dimacs_cnf(filename):\n",
    "    clauses = []\n",
    "    with open(filename, 'r') as file:\n",
    "        for line in file:\n",
    "            if line.startswith(\"c\"):\n",
    "                continue\n",
    "            if line.startswith(\"p cnf\"):\n",
    "                num_vars, num_clauses = map(int, line.strip().split()[2:])\n",
    "            else:\n",
    "                clause = list(map(int, line.strip().split()[:-1]))\n",
    "                clauses.append(clause)\n",
    "    return num_vars, clauses"
   ]
  },
  {
   "cell_type": "code",
   "execution_count": 7,
   "metadata": {},
   "outputs": [],
   "source": [
    "filename = \"DIMACS_files/turbo_easy/example_2.cnf\"\n",
    "num_vars, clauses = read_dimacs_cnf(filename)"
   ]
  },
  {
   "cell_type": "code",
   "execution_count": 8,
   "metadata": {},
   "outputs": [
    {
     "name": "stdout",
     "output_type": "stream",
     "text": [
      "SAT\n"
     ]
    }
   ],
   "source": [
    "solver = CDCLSolver(num_vars, clauses)\n",
    "result = solver.solve()\n",
    "\n",
    "print(result)"
   ]
  }
 ],
 "metadata": {
  "kernelspec": {
   "display_name": "Python 3",
   "language": "python",
   "name": "python3"
  },
  "language_info": {
   "codemirror_mode": {
    "name": "ipython",
    "version": 3
   },
   "file_extension": ".py",
   "mimetype": "text/x-python",
   "name": "python",
   "nbconvert_exporter": "python",
   "pygments_lexer": "ipython3",
   "version": "3.11.7"
  }
 },
 "nbformat": 4,
 "nbformat_minor": 2
}
